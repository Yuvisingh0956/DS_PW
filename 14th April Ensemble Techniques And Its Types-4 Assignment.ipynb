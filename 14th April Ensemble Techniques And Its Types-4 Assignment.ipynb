{
 "cells": [
  {
   "cell_type": "markdown",
   "id": "33b1cf91-4443-4974-a562-057b894c116b",
   "metadata": {},
   "source": [
    "## Build a random forest classifier to predict the risk of heart disease based on a dataset of patient information. The dataset contains 303 instances with 14 features, including age, sex, chest pain type, resting blood pressure, serum cholesterol, and maximum heart rate achieved."
   ]
  },
  {
   "cell_type": "code",
   "execution_count": 11,
   "id": "06ce729a-b7db-42e5-9ac7-7d8d51283bc5",
   "metadata": {},
   "outputs": [
    {
     "name": "stdout",
     "output_type": "stream",
     "text": [
      "   age  sex  cp  trestbps  chol  fbs  restecg  thalach  exang  oldpeak  slope  \\\n",
      "0   63    1   3       145   233    1        0      150      0      2.3      0   \n",
      "1   37    1   2       130   250    0        1      187      0      3.5      0   \n",
      "2   41    0   1       130   204    0        0      172      0      1.4      2   \n",
      "3   56    1   1       120   236    0        1      178      0      0.8      2   \n",
      "4   57    0   0       120   354    0        1      163      1      0.6      2   \n",
      "\n",
      "   ca  thal  target  \n",
      "0   0     1       1  \n",
      "1   0     2       1  \n",
      "2   0     2       1  \n",
      "3   0     2       1  \n",
      "4   0     2       1  \n",
      "Default Model Performance:\n",
      "Accuracy: 0.8132\n",
      "Precision: 0.8367\n",
      "Recall: 0.8200\n",
      "F1 Score: 0.8283\n"
     ]
    },
    {
     "data": {
      "image/png": "[encoded data removed]",
      "text/plain": [
       "<Figure size 1000x600 with 1 Axes>"
      ]
     },
     "metadata": {},
     "output_type": "display_data"
    },
    {
     "name": "stdout",
     "output_type": "stream",
     "text": [
      "\n",
      "Tuned Model Performance:\n",
      "Best Hyperparameters: {'max_depth': 5, 'min_samples_leaf': 2, 'min_samples_split': 2, 'n_estimators': 100}\n",
      "Accuracy: 0.8352\n",
      "Precision: 0.8302\n",
      "Recall: 0.8800\n",
      "F1 Score: 0.8544\n"
     ]
    }
   ],
   "source": [
    "import pandas as pd\n",
    "import numpy as np\n",
    "from sklearn.model_selection import train_test_split, GridSearchCV\n",
    "from sklearn.ensemble import RandomForestClassifier\n",
    "from sklearn.metrics import accuracy_score, precision_score, recall_score, f1_score\n",
    "import matplotlib.pyplot as plt\n",
    "import seaborn as sns\n",
    "\n",
    "# Load the dataset (replace 'your_dataset.csv' with the actual filename)\n",
    "df = pd.read_csv('dataset.csv')\n",
    "\n",
    "# Display the first few rows of the dataset to understand its structure\n",
    "print(df.head())\n",
    "\n",
    "# Separate features and target variable\n",
    "target_column_name = 'target' \n",
    "X = df.drop(target_column_name, axis=1)\n",
    "y = df[target_column_name]\n",
    "\n",
    "# Step 2: Split the dataset into a training set (70%) and a test set (30%)\n",
    "X_train, X_test, y_train, y_test = train_test_split(X, y, test_size=0.3, random_state=42)\n",
    "\n",
    "# Step 3: Train a random forest classifier on the training set\n",
    "rf_classifier_default = RandomForestClassifier(n_estimators=100, max_depth=10, random_state=42)\n",
    "rf_classifier_default.fit(X_train, y_train)\n",
    "\n",
    "# Step 4: Evaluate the performance of the model on the test set\n",
    "y_pred_default = rf_classifier_default.predict(X_test)\n",
    "\n",
    "accuracy_default = accuracy_score(y_test, y_pred_default)\n",
    "precision_default = precision_score(y_test, y_pred_default)\n",
    "recall_default = recall_score(y_test, y_pred_default)\n",
    "f1_default = f1_score(y_test, y_pred_default)\n",
    "\n",
    "print(\"Default Model Performance:\")\n",
    "print(f\"Accuracy: {accuracy_default:.4f}\")\n",
    "print(f\"Precision: {precision_default:.4f}\")\n",
    "print(f\"Recall: {recall_default:.4f}\")\n",
    "print(f\"F1 Score: {f1_default:.4f}\")\n",
    "\n",
    "# Step 5: Feature Importance\n",
    "feature_importances = pd.Series(rf_classifier_default.feature_importances_, index=X.columns)\n",
    "top_features = feature_importances.nlargest(5)\n",
    "\n",
    "# Visualize feature importances using a bar chart\n",
    "plt.figure(figsize=(10, 6))\n",
    "sns.barplot(x=top_features.values, y=top_features.index, palette=\"viridis\")\n",
    "plt.title('Top 5 Features - Random Forest Classifier')\n",
    "plt.xlabel('Feature Importance')\n",
    "plt.ylabel('Feature')\n",
    "plt.show()\n",
    "\n",
    "# Step 6: Hyperparameter Tuning using GridSearchCV\n",
    "param_grid = {\n",
    "    'n_estimators': [50, 100, 150],\n",
    "    'max_depth': [5, 10, 15],\n",
    "    'min_samples_split': [2, 5, 10],\n",
    "    'min_samples_leaf': [1, 2, 4]\n",
    "}\n",
    "\n",
    "rf_classifier_tuned = RandomForestClassifier(random_state=42)\n",
    "grid_search = GridSearchCV(rf_classifier_tuned, param_grid, cv=5, scoring='accuracy')\n",
    "grid_search.fit(X_train, y_train)\n",
    "\n",
    "# Step 7: Report the best set of hyperparameters and corresponding performance metrics\n",
    "best_params = grid_search.best_params_\n",
    "best_model = grid_search.best_estimator_\n",
    "y_pred_tuned = best_model.predict(X_test)\n",
    "\n",
    "accuracy_tuned = accuracy_score(y_test, y_pred_tuned)\n",
    "precision_tuned = precision_score(y_test, y_pred_tuned)\n",
    "recall_tuned = recall_score(y_test, y_pred_tuned)\n",
    "f1_tuned = f1_score(y_test, y_pred_tuned)\n",
    "\n",
    "print(\"\\nTuned Model Performance:\")\n",
    "print(f\"Best Hyperparameters: {best_params}\")\n",
    "print(f\"Accuracy: {accuracy_tuned:.4f}\")\n",
    "print(f\"Precision: {precision_tuned:.4f}\")\n",
    "print(f\"Recall: {recall_tuned:.4f}\")\n",
    "print(f\"F1 Score: {f1_tuned:.4f}\")"
   ]
  }
 ],
 "metadata": {
  "kernelspec": {
   "display_name": "Python 3 (ipykernel)",
   "language": "python",
   "name": "python3"
  },
  "language_info": {
   "codemirror_mode": {
    "name": "ipython",
    "version": 3
   },
   "file_extension": ".py",
   "mimetype": "text/x-python",
   "name": "python",
   "nbconvert_exporter": "python",
   "pygments_lexer": "ipython3",
   "version": "3.10.8"
  }
 },
 "nbformat": 4,
 "nbformat_minor": 5
}
