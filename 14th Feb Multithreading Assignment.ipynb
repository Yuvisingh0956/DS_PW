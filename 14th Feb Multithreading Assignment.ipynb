{
 "cells": [
  {
   "cell_type": "code",
   "execution_count": null,
   "id": "a4767071",
   "metadata": {},
   "outputs": [],
   "source": [
    "#Q1. What is multithreading in python? Why is it used? Name the module used to handle threads in python.\n",
    "'''\n",
    "Multithreading in Python refers to the ability of a program to simultaneously execute multiple threads of execution, where \n",
    "each thread runs independently and concurrently with the others. \n",
    "\n",
    "Multithreading is used to improve the performance of a program by allowing it to perform multiple tasks at the same time, \n",
    "thus making it more responsive and efficient.\n",
    "\n",
    "\"threading\" is used to handle threads in Python\n",
    "'''"
   ]
  },
  {
   "cell_type": "code",
   "execution_count": null,
   "id": "68c622bc",
   "metadata": {},
   "outputs": [],
   "source": [
    "#Q2. Why threading module used? Write the use of the following functions:\n",
    "#1. activeCount()\n",
    "#2. currentThread()\n",
    "#3. enumerate()\n",
    "'''\n",
    "The threading module is used in Python to handle threads and manage them in a program. It provides a high-level interface for creating and controlling threads in a program.\n",
    "\n",
    "Here are the uses of the following functions in the threading module:\n",
    "\n",
    "1. `activeCount()`: This function returns the number of thread objects that are currently active and running in a program. \n",
    "                    It is used to get an idea of how many threads are running at any given time and can be helpful in monitoring the performance of the program.\n",
    "\n",
    "2. `currentThread()`: This function returns a reference to the current thread object that is executing in the program. \n",
    "\n",
    "3. `enumerate()`: This function returns a list of all the thread objects that are currently active and running in a program.\n",
    "                  It can be used to get information about all the threads running in a program and can be helpful in debugging and troubleshooting multi-threaded programs.\n",
    "'''"
   ]
  },
  {
   "cell_type": "code",
   "execution_count": null,
   "id": "61ca30f2",
   "metadata": {},
   "outputs": [],
   "source": [
    "#Q3. Explain the following functions\n",
    "#1. run()\n",
    "#2. start()\n",
    "#3. join()\n",
    "#4. isAlive()\n",
    "'''\n",
    "1.run(): This function is called by the start() method of the Thread class to start the thread's activity. It is the method that actually \n",
    "performs the work of the thread. \n",
    "\n",
    "2.start(): This function is used to start a thread's activity by calling the run() method. When a new thread is created, it is in a \"stopped\" \n",
    "state. The start() method starts the execution of the thread by calling the run() method.\n",
    "\n",
    "3.join(): This function blocks the calling thread until the thread whose join() method is called completes its execution. \n",
    "\n",
    "4.isAlive(): This function returns a Boolean value indicating whether the thread is alive or not. \n",
    "'''"
   ]
  },
  {
   "cell_type": "code",
   "execution_count": 8,
   "id": "5c674a08",
   "metadata": {},
   "outputs": [
    {
     "name": "stdout",
     "output_type": "stream",
     "text": [
      "List of squares:  [1, 4, 9, 16, 25, 36, 49, 64, 81]\n",
      "\n",
      "List of cubes:  [1, 8, 27, 64, 125, 216, 343, 512, 729]\n"
     ]
    }
   ],
   "source": [
    "#Q4. Write a python program to create two threads. Thread one must print the list of squares and thread two must print the list of cubes\n",
    "\n",
    "import threading\n",
    "from queue import Queue\n",
    "\n",
    "def print_squares(result_queue):\n",
    "    squares = []\n",
    "    for i in range(1, 10):\n",
    "        squares.append(i**2)\n",
    "    result_queue.put(squares)\n",
    "\n",
    "def print_cubes(result_queue):\n",
    "    cubes = []\n",
    "    for i in range(1, 10):\n",
    "        cubes.append(i**3)\n",
    "    result_queue.put(cubes)\n",
    "\n",
    "if __name__ == \"__main__\":\n",
    "    # create a queue to hold the results\n",
    "    result_queue = Queue()\n",
    "\n",
    "    # create thread 1 to print squares\n",
    "    t1 = threading.Thread(target=print_squares, args=(result_queue,))\n",
    "\n",
    "    # create thread 2 to print cubes\n",
    "    t2 = threading.Thread(target=print_cubes, args=(result_queue,))\n",
    "\n",
    "    # start both threads\n",
    "    t1.start()\n",
    "    t2.start()\n",
    "\n",
    "    # wait for both threads to finish and get their results\n",
    "    t1.join()\n",
    "    squares = result_queue.get()\n",
    "    t2.join()\n",
    "    cubes = result_queue.get()\n",
    "\n",
    "    # print the results in list form\n",
    "    print(\"List of squares: \", squares)\n",
    "    print(\"\\nList of cubes: \", cubes)\n"
   ]
  },
  {
   "cell_type": "code",
   "execution_count": null,
   "id": "9bee712d",
   "metadata": {},
   "outputs": [],
   "source": [
    "#Q5. State advantages and disadvantages of multithreading.\n",
    "'''\n",
    "Advantages of multithreading:\n",
    "\n",
    "1. Improved Performance\n",
    "2. Responsiveness\n",
    "3. Resource Sharing\n",
    "4. Simplicity\n",
    "\n",
    "Disadvantages of multithreading:\n",
    "\n",
    "1. Complexity\n",
    "2. Resource Contention\n",
    "3. Deadlocks\n",
    "4. Race Conditions\n",
    "'''"
   ]
  },
  {
   "cell_type": "code",
   "execution_count": null,
   "id": "52823582",
   "metadata": {},
   "outputs": [],
   "source": [
    "#Q6. Explain deadlocks and race conditions.\n",
    "'''\n",
    "Deadlocks: When multiple threads are waiting for each other to release resources, it can lead to a deadlock, where none of the threads can proceed.\n",
    "Race Conditions: When multiple threads access shared resources concurrently, it can result in race conditions, where the results of the program are \n",
    "dependent on the timing of the threads. This can lead to unpredictable and incorrect results.\n",
    "'''"
   ]
  }
 ],
 "metadata": {
  "kernelspec": {
   "display_name": "Python 3 (ipykernel)",
   "language": "python",
   "name": "python3"
  },
  "language_info": {
   "codemirror_mode": {
    "name": "ipython",
    "version": 3
   },
   "file_extension": ".py",
   "mimetype": "text/x-python",
   "name": "python",
   "nbconvert_exporter": "python",
   "pygments_lexer": "ipython3",
   "version": "3.9.12"
  }
 },
 "nbformat": 4,
 "nbformat_minor": 5
}
