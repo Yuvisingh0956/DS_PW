{
 "cells": [
  {
   "cell_type": "code",
   "execution_count": 3,
   "id": "ebd7c772",
   "metadata": {},
   "outputs": [
    {
     "name": "stdout",
     "output_type": "stream",
     "text": [
      "<class '__main__.Student'>\n"
     ]
    },
    {
     "data": {
      "text/plain": [
       "(1, 'Yuvraj')"
      ]
     },
     "execution_count": 3,
     "metadata": {},
     "output_type": "execute_result"
    }
   ],
   "source": [
    "#Q1. Explain Class and Object with respect to Object-Oriented Programming. Give a suitable example.\n",
    "'''\n",
    "A class in object-oriented programming is a skeleton for building objects.\n",
    "On the other hand, an object is a specific instance of a class. It has its own state (data) and behaviour (methods) and represents \n",
    "a particular thing in the actual world. By communicating with one another via messages (calling methods), objects can cooperate.\n",
    "'''\n",
    "\n",
    "class Student:\n",
    "    def __init__(self, id, name):\n",
    "        self.id = id\n",
    "        self.name = name\n",
    "    def print(self):\n",
    "        return self.id,self.name\n",
    "\n",
    "Yuvi = Student(1,\"Yuvraj\")\n",
    "print(type(Yuvi))\n",
    "Yuvi.print()\n",
    "\n",
    "'''\n",
    "Here Student is a class while Yuvi is an object which is created by the class Student.\n",
    "'''"
   ]
  },
  {
   "cell_type": "code",
   "execution_count": 4,
   "id": "47ef5e2c",
   "metadata": {},
   "outputs": [
    {
     "data": {
      "text/plain": [
       "'\\nThe four pillars of Object-Oriented Programming (OOP) are:\\n1.Encapsulation\\n2.Inheritance\\n3.Polymorphism\\n4.Abstraction\\n'"
      ]
     },
     "execution_count": 4,
     "metadata": {},
     "output_type": "execute_result"
    }
   ],
   "source": [
    "#Q2. Name the four pillars of OOPs.\n",
    "'''\n",
    "The four pillars of Object-Oriented Programming (OOP) are:\n",
    "1.Encapsulation\n",
    "2.Inheritance\n",
    "3.Polymorphism\n",
    "4.Abstraction\n",
    "'''"
   ]
  },
  {
   "cell_type": "code",
   "execution_count": 5,
   "id": "2315d268",
   "metadata": {},
   "outputs": [
    {
     "data": {
      "text/plain": [
       "'\\nIn this example, we have defined a class called Student with a constructor (__init__) that takes two parameters \\n(id and name) and sets the instance variables self.id and self.name accordingly. \\n\\nWe then create an object of the Student class called person1 and pass in the values for the constructor. \\nThe __init__() method is automatically called when the object is created, and initializes the name and age attributes of \\nthe object.\\n'"
      ]
     },
     "execution_count": 5,
     "metadata": {},
     "output_type": "execute_result"
    }
   ],
   "source": [
    "#Q3. Explain why the __init__() function is used. Give a suitable example.\n",
    "'''\n",
    "__init__() function is used to initialize the attributes (data) of the object and to perform any other setup that needs to \n",
    "be done before the object can be used.\n",
    "'''\n",
    "\n",
    "class Student:\n",
    "    def __init__(self, id, name):\n",
    "        self.id = id\n",
    "        self.name = name\n",
    "    def print(self):\n",
    "        return self.id,self.name\n",
    "\n",
    "Yuvi = Student(1,\"Yuvraj\")\n",
    "Yuvi.print()\n",
    "\n",
    "'''\n",
    "In this example, we have defined a class called Student with a constructor (__init__) that takes two parameters \n",
    "(id and name) and sets the instance variables self.id and self.name accordingly. \n",
    "\n",
    "We then create an object of the Student class called person1 and pass in the values for the constructor. \n",
    "The __init__() method is automatically called when the object is created, and initializes the name and age attributes of \n",
    "the object.\n",
    "'''"
   ]
  },
  {
   "cell_type": "code",
   "execution_count": null,
   "id": "4cfee3d5",
   "metadata": {},
   "outputs": [],
   "source": [
    "#Q4. Why self is used in OOPs?\n",
    "'''\n",
    "In object-oriented programming (OOP), self is a reference to the current instance of a class. It is a convention in Python \n",
    "to use self as the first parameter of instance methods in a class. self is used to access the instance variables and methods\n",
    "of the current object within the class. When an object is created from a class, it is an instance of that class, and \n",
    "self refers to that instance.\n",
    "'''"
   ]
  },
  {
   "cell_type": "code",
   "execution_count": null,
   "id": "48cdf367",
   "metadata": {},
   "outputs": [],
   "source": [
    "#Q5. What is inheritance? Give an example for each type of inheritance.\n",
    "'''\n",
    "Inheritance is one of the fundamental concepts of object-oriented programming (OOP) that allows a new class to be based on an existing class, inheriting its attributes and methods. Inheritance creates a hierarchy of classes, where each derived class is a specialization of the base class.\n",
    "\n",
    "In Python, there are three types of inheritance:\n",
    "1.Single inheritance: In single inheritance, a derived class inherits from a single base class\n",
    "2.Multiple inheritance: In multiple inheritance, a derived class inherits from multiple base classes.\n",
    "3.Multi-level inheritance: In multi-level inheritance, a derived class inherits from a base class, which itself inherits \n",
    "from another base class.\n",
    "'''"
   ]
  }
 ],
 "metadata": {
  "kernelspec": {
   "display_name": "Python 3 (ipykernel)",
   "language": "python",
   "name": "python3"
  },
  "language_info": {
   "codemirror_mode": {
    "name": "ipython",
    "version": 3
   },
   "file_extension": ".py",
   "mimetype": "text/x-python",
   "name": "python",
   "nbconvert_exporter": "python",
   "pygments_lexer": "ipython3",
   "version": "3.9.12"
  }
 },
 "nbformat": 4,
 "nbformat_minor": 5
}
