{
 "cells": [
  {
   "cell_type": "code",
   "execution_count": 17,
   "id": "4484e7fd",
   "metadata": {},
   "outputs": [
    {
     "name": "stdout",
     "output_type": "stream",
     "text": [
      "The flat list is:  [1, 2, 3, 4, 44, 55, 66, 34, 56, 78, 89, 34, 1, 2, 3, 1, 4, 34, 55, 67, 78, 89, 45, 22, 61, 34, 56]\n",
      "The product of the elements of flat list is:  4134711838987085478833841242112000\n"
     ]
    }
   ],
   "source": [
    "#Q1. Create a function which will take a list as an argument and return the product of all the numbers after creating a flat list.\n",
    "\n",
    "def product_of_numbers(lst):\n",
    "    flat_list = []\n",
    "    for item in lst:\n",
    "        if type(item) == list or type(item) == tuple or type(item) == set:\n",
    "            flat_list += list(filter(lambda x: type(x) == int or type(x) == float, item))\n",
    "        elif type(item) == dict:\n",
    "            flat_list += list(filter(lambda x: type(x) == int or type(x) == float, item.keys()))\n",
    "            flat_list += list(filter(lambda x: type(x) == int or type(x) == float, item.values()))\n",
    "            for value in item.values():\n",
    "                if type(value) == list or type(value) == tuple or type(value) == set:\n",
    "                    flat_list += list(filter(lambda x: type(x) == int or type(x) == float, value))\n",
    "        elif type(item) == int or type(item) == float:\n",
    "            flat_list.append(item)\n",
    "    product = 1\n",
    "    for num in flat_list:\n",
    "        product *= num\n",
    "    return flat_list,product\n",
    "\n",
    "l = [1,2,3,4, [44,55,66, True], False, (34,56,78,89,34), {1,2,3,3,2,1}, {1:34, \"key2\": [55, 67, 78, 89], 4: (45, 22, 61, 34)},\n",
    "    [56, 'data science'], 'Machine Learning']\n",
    "flat_list, product = product_of_numbers(l)\n",
    "print(\"The flat list is: \", flat_list)\n",
    "print(\"The product of the elements of flat list is: \", product)"
   ]
  },
  {
   "cell_type": "code",
   "execution_count": 27,
   "id": "9e8a756e",
   "metadata": {},
   "outputs": [
    {
     "name": "stdout",
     "output_type": "stream",
     "text": [
      "I want to become a Data Scientist.\n",
      "The input message is:  I want to become a Data Scientist.\n",
      "The encrypted message is:  r$dzmg$gl$yvxlnv$z$wzgz$hxrvmgrhg.\n"
     ]
    }
   ],
   "source": [
    "#Q2. Write a python program for encrypting a message sent to you by your friend. The logic of encryption should be such that,\n",
    "#for a the output should be z. For b, the output should be y. For c, the output should be x respectively. Also, the \n",
    "#whitespace should be replaced with a dollar sign. Keep the punctuation marks unchanged.\n",
    "\n",
    "def encryption(s):\n",
    "    s = s.lower()\n",
    "    m = 'abcdefghijklmnopqrstuvwxyz'\n",
    "    encrypt = ''\n",
    "    for word in s:\n",
    "        for letter in word:\n",
    "            if (96 < ord(letter) < 123):\n",
    "                encrypt += chr(122 - m.index(letter))\n",
    "            elif (letter == ' '):\n",
    "                encrypt += '$'\n",
    "            else:\n",
    "                encrypt += letter\n",
    "    return encrypt\n",
    "\n",
    "string = input()\n",
    "print(\"The input message is: \", string)\n",
    "print(\"The encrypted message is: \",encryption(string))"
   ]
  },
  {
   "cell_type": "code",
   "execution_count": null,
   "id": "b1a3b376",
   "metadata": {},
   "outputs": [],
   "source": []
  }
 ],
 "metadata": {
  "kernelspec": {
   "display_name": "Python 3 (ipykernel)",
   "language": "python",
   "name": "python3"
  },
  "language_info": {
   "codemirror_mode": {
    "name": "ipython",
    "version": 3
   },
   "file_extension": ".py",
   "mimetype": "text/x-python",
   "name": "python",
   "nbconvert_exporter": "python",
   "pygments_lexer": "ipython3",
   "version": "3.9.12"
  }
 },
 "nbformat": 4,
 "nbformat_minor": 5
}
