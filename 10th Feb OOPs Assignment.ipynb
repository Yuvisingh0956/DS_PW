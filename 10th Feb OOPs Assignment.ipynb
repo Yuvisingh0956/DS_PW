{
 "cells": [
  {
   "cell_type": "code",
   "execution_count": null,
   "id": "380ac9e3",
   "metadata": {},
   "outputs": [],
   "source": [
    "#Q1. Which function is used to open a file? What are the different modes of opening a file? Explain each mode of file opening.\n",
    "\n",
    "'''\n",
    "The open() function is used to open a file in Python.\n",
    "\n",
    "Here are the different modes of opening a file in Python:\n",
    "\n",
    "1. 'r' (read mode): This is the default mode for opening a file. It is used to read data from a file.\n",
    "\n",
    "2. 'w' (write mode): This mode is used to write data to a file. If the file already exists, all existing data will be deleted. \n",
    "If the file does not exist, it will be created.\n",
    "\n",
    "3. 'x' (exclusive mode): This mode is used to create a new file and open it for writing. \n",
    "\n",
    "4. 'a' (append mode): This mode is used to open a file for writing, but instead of truncating the file, it will append new data to the end of the file. \n",
    "If the file does not exist, it will be create\n",
    "d.\n",
    "\n",
    "5. 'b' (binary mode): This mode is used when working with binary files (e.g., image files, audio files).\n",
    "\n",
    "6. 't' (text mode): This mode is used when working with text files (e.g., .txt files). "
   ]
  },
  {
   "cell_type": "code",
   "execution_count": null,
   "id": "517cf652",
   "metadata": {},
   "outputs": [],
   "source": [
    "#Q2. Why close() function is used? Why is it important to close a file?\n",
    "'''\n",
    "The close() function is used in programming languages like Python to release the resources being used by a file object.\n",
    "\n",
    "It is important to close a file using the close() function to ensure that these resources are freed up when they are no longer needed. \n",
    "If you don't close a file after using it, the operating system might hold onto these resources, potentially causing issues \n",
    "like memory leaks or running out of available file descriptors if you try to open too many files at once.\n",
    "'''"
   ]
  },
  {
   "cell_type": "code",
   "execution_count": 17,
   "id": "1ac1014d",
   "metadata": {},
   "outputs": [
    {
     "name": "stdout",
     "output_type": "stream",
     "text": [
      "I want to become a Data Scientist\n"
     ]
    }
   ],
   "source": [
    "#Q3. Write a python program to create a text file. Write ‘I want to become a Data Scientist’ in that file. Then close the file. \n",
    "#Open this file and read the content of the file.\n",
    "\n",
    "f = open(\"data.txt\", 'w')\n",
    "f.write(\"I want to become a Data Scientist\")\n",
    "f.close()\n",
    "\n",
    "f = open(\"data.txt\", 'r')\n",
    "r = f.read()\n",
    "f.close()\n",
    "print(r)"
   ]
  },
  {
   "cell_type": "code",
   "execution_count": 10,
   "id": "55a6f7cc",
   "metadata": {},
   "outputs": [
    {
     "name": "stdout",
     "output_type": "stream",
     "text": [
      "read() example:\n",
      "\n",
      "I want to become a Data Scientist. \n",
      "I want to do best in Data Science.\n",
      "\n",
      "readline() example:\n",
      "\n",
      "I want to become a Data Scientist. \n",
      "\n",
      "I want to do best in Data Science.\n",
      "\n",
      "readlines() example:\n",
      "\n",
      "I want to become a Data Scientist. \n",
      "\n",
      "I want to do best in Data Science.\n"
     ]
    }
   ],
   "source": [
    "#Q4. Explain the following with python code: read(), readline() and readlines().\n",
    "\n",
    "'''\n",
    "read(): This method reads the entire contents of the file as a single string, or a specified number of bytes if an argument is provided. \n",
    "Here's an example:\n",
    "'''\n",
    "\n",
    "#Creating a file example.txt for demo\n",
    "f = open(\"example.txt\", 'w')\n",
    "f.write(\"I want to become a Data Scientist. \\nI want to do best in Data Science.\")\n",
    "f.close()\n",
    "\n",
    "\n",
    "\n",
    "print(\"read() example:\")\n",
    "print()\n",
    "file = open('example.txt', 'r')\n",
    "contents = file.read()\n",
    "file.close()\n",
    "print(contents)\n",
    "print()\n",
    "\n",
    "'''\n",
    "readline(): This method reads a single line from the file, starting from the current position of the file pointer. \n",
    "Each time readline() is called, the file pointer moves to the next line. \n",
    "Here's an example:\n",
    "'''\n",
    "\n",
    "print(\"readline() example:\")\n",
    "print()\n",
    "file = open('example.txt', 'r')\n",
    "line1 = file.readline()\n",
    "line2 = file.readline()\n",
    "file.close()\n",
    "print(line1)\n",
    "print(line2)\n",
    "print()\n",
    "\n",
    "\n",
    "'''\n",
    "readlines(): This method reads all the lines of the file and returns them as a list of strings.\n",
    "Here's an example:\n",
    "'''\n",
    "print(\"readlines() example:\")\n",
    "print()\n",
    "file = open('example.txt', 'r')\n",
    "lines = file.readlines()\n",
    "file.close()\n",
    "for line in lines:\n",
    "    print(line)\n"
   ]
  },
  {
   "cell_type": "code",
   "execution_count": null,
   "id": "ef668368",
   "metadata": {},
   "outputs": [],
   "source": [
    "#Q5. Explain why with statement is used with open(). What is the advantage of using with statement and open() together?\n",
    "\n",
    "'''\n",
    "The with statement is used with the open() function in Python to ensure that a file is properly closed after it has been used,\n",
    "even if an error occurs while processing the file. This is because the with statement automatically handles the setup and \n",
    "teardown of the file object, which includes closing the file once the block of code inside the with statement has executed.\n",
    "\n",
    "The advantage of using the with statement with open() is that it provides a convenient and safe way to work with files. \n",
    "With the with statement, you don't have to worry about manually closing the file or handling exceptions related to file access,\n",
    "because the with statement takes care of these details for you.\n",
    "'''"
   ]
  },
  {
   "cell_type": "code",
   "execution_count": 19,
   "id": "f261dfb1",
   "metadata": {},
   "outputs": [
    {
     "name": "stdout",
     "output_type": "stream",
     "text": [
      "write() example: \n",
      "\n",
      "I want to become a Data Scientist\n",
      "\n",
      "writelines() example: \n",
      "\n",
      "apple\n",
      "\n",
      "banana\n",
      "\n",
      "cherry\n",
      "\n"
     ]
    }
   ],
   "source": [
    "#Q6. Explain the write() and writelines() functions. Give a suitable example.\n",
    "\n",
    "'''\n",
    "write(): This method writes a string of characters to a file. If the file already exists, it will be overwritten with the new data. \n",
    "If the file does not exist, a new file will be created. \n",
    "Here's an example:\n",
    "'''\n",
    "\n",
    "print(\"write() example: \")\n",
    "print()\n",
    "f = open(\"example.txt\", 'w')\n",
    "f.write(\"I want to become a Data Scientist\")\n",
    "f.close()\n",
    "\n",
    "file = open('example.txt', 'r')\n",
    "line = file.read()\n",
    "file.close()\n",
    "print(line)\n",
    "print()\n",
    "\n",
    "'''\n",
    "writelines(): This method writes a list of strings to a file. Each string in the list is written as a separate line in the file. \n",
    "Here's an example:\n",
    "'''\n",
    "\n",
    "print(\"writelines() example: \")\n",
    "print()\n",
    "file = open('example.txt', 'w')\n",
    "lines = ['apple\\n', 'banana\\n', 'cherry\\n']\n",
    "file.writelines(lines)\n",
    "\n",
    "file = open('example.txt', 'r')\n",
    "lines = file.readlines()\n",
    "file.close()\n",
    "for line in lines:\n",
    "    print(line)\n",
    "\n",
    "file.close()"
   ]
  },
  {
   "cell_type": "code",
   "execution_count": null,
   "id": "21f0a5ad",
   "metadata": {},
   "outputs": [],
   "source": []
  }
 ],
 "metadata": {
  "kernelspec": {
   "display_name": "Python 3 (ipykernel)",
   "language": "python",
   "name": "python3"
  },
  "language_info": {
   "codemirror_mode": {
    "name": "ipython",
    "version": 3
   },
   "file_extension": ".py",
   "mimetype": "text/x-python",
   "name": "python",
   "nbconvert_exporter": "python",
   "pygments_lexer": "ipython3",
   "version": "3.9.12"
  }
 },
 "nbformat": 4,
 "nbformat_minor": 5
}
