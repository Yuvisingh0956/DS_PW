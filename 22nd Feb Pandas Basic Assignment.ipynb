{
 "cells": [
  {
   "cell_type": "code",
   "execution_count": 3,
   "id": "94735d49-b572-499a-b9f7-4e5509b75130",
   "metadata": {},
   "outputs": [
    {
     "data": {
      "text/plain": [
       "0     4\n",
       "1     8\n",
       "2    15\n",
       "3    16\n",
       "4    23\n",
       "5    42\n",
       "dtype: int64"
      ]
     },
     "execution_count": 3,
     "metadata": {},
     "output_type": "execute_result"
    }
   ],
   "source": [
    "#Q1. Create a Pandas Series that contains the following data: 4, 8, 15, 16, 23, and 42. Then, print the series.\n",
    "import pandas as pd\n",
    "\n",
    "data = [4, 8, 15, 16, 23, 42]\n",
    "\n",
    "df = pd.Series(data)\n",
    "df"
   ]
  },
  {
   "cell_type": "code",
   "execution_count": 4,
   "id": "00d04c28-93e0-4c0a-9d1d-c3b46b9c5c99",
   "metadata": {},
   "outputs": [
    {
     "data": {
      "text/plain": [
       "0    1\n",
       "1    2\n",
       "2    3\n",
       "3    4\n",
       "4    5\n",
       "5    5\n",
       "6    6\n",
       "7    6\n",
       "8    7\n",
       "9    9\n",
       "dtype: int64"
      ]
     },
     "execution_count": 4,
     "metadata": {},
     "output_type": "execute_result"
    }
   ],
   "source": [
    "#Q2. Create a variable of list type containing 10 elements in it, and apply pandas.Series function on the variable print it.\n",
    "import pandas as pd\n",
    "\n",
    "data = [1,2,3,4,5,5,6,6,7,9]\n",
    "\n",
    "df = pd.Series(data)\n",
    "df"
   ]
  },
  {
   "cell_type": "code",
   "execution_count": 5,
   "id": "b1513aaf-ba74-4a87-8dcd-42fc0ca901ef",
   "metadata": {},
   "outputs": [
    {
     "data": {
      "text/html": [
       "<div>\n",
       "<style scoped>\n",
       "    .dataframe tbody tr th:only-of-type {\n",
       "        vertical-align: middle;\n",
       "    }\n",
       "\n",
       "    .dataframe tbody tr th {\n",
       "        vertical-align: top;\n",
       "    }\n",
       "\n",
       "    .dataframe thead th {\n",
       "        text-align: right;\n",
       "    }\n",
       "</style>\n",
       "<table border=\"1\" class=\"dataframe\">\n",
       "  <thead>\n",
       "    <tr style=\"text-align: right;\">\n",
       "      <th></th>\n",
       "      <th>Name</th>\n",
       "      <th>Age</th>\n",
       "      <th>Gender</th>\n",
       "    </tr>\n",
       "  </thead>\n",
       "  <tbody>\n",
       "    <tr>\n",
       "      <th>0</th>\n",
       "      <td>Alice</td>\n",
       "      <td>25</td>\n",
       "      <td>Female</td>\n",
       "    </tr>\n",
       "    <tr>\n",
       "      <th>1</th>\n",
       "      <td>Bob</td>\n",
       "      <td>30</td>\n",
       "      <td>Male</td>\n",
       "    </tr>\n",
       "    <tr>\n",
       "      <th>2</th>\n",
       "      <td>Claire</td>\n",
       "      <td>27</td>\n",
       "      <td>Female</td>\n",
       "    </tr>\n",
       "  </tbody>\n",
       "</table>\n",
       "</div>"
      ],
      "text/plain": [
       "     Name  Age  Gender\n",
       "0   Alice   25  Female\n",
       "1     Bob   30    Male\n",
       "2  Claire   27  Female"
      ]
     },
     "execution_count": 5,
     "metadata": {},
     "output_type": "execute_result"
    }
   ],
   "source": [
    "#Q3. Create a Pandas DataFrame that contains the following data.Then, print the DataFrame.\n",
    "\n",
    "import pandas as pd\n",
    "\n",
    "data = {\n",
    "    \"Name\" : [\"Alice\", \"Bob\", \"Claire\"],\n",
    "    \"Age\" : [25,30,27],\n",
    "    \"Gender\" : [\"Female\", \"Male\", \"Female\"]\n",
    "}\n",
    "\n",
    "df = pd.DataFrame(data)\n",
    "df"
   ]
  },
  {
   "cell_type": "code",
   "execution_count": 7,
   "id": "1badb237-2f2b-4a4e-99b4-155518d9dc1e",
   "metadata": {},
   "outputs": [
    {
     "name": "stdout",
     "output_type": "stream",
     "text": [
      "Pandas Series: \n",
      "\n",
      "0     Alice\n",
      "1       Bob\n",
      "2    Claire\n",
      "dtype: object\n",
      "\n",
      "\n",
      "Pandas DataFrame: \n",
      "\n",
      "     Name  Age  Gender\n",
      "0   Alice   25  Female\n",
      "1     Bob   30    Male\n",
      "2  Claire   27  Female\n"
     ]
    }
   ],
   "source": [
    "#Q4. What is ‘DataFrame’ in pandas and how is it different from pandas.series? Explain with an example.\n",
    "'''\n",
    "In pandas, a DataFrame is a 2-dimensional labeled data structure with columns of potentially different data types. \n",
    "It can be thought of as a collection of Series objects that share the same index. \n",
    "\n",
    "A Series, on the other hand, is a one-dimensional labeled array capable of holding any data type.\n",
    "'''\n",
    "\n",
    "import pandas as pd\n",
    "\n",
    "name = pd.Series([\"Alice\", \"Bob\", \"Claire\"])\n",
    "\n",
    "data = {\n",
    "    \"Name\" : [\"Alice\", \"Bob\", \"Claire\"],\n",
    "    \"Age\" : [25,30,27],\n",
    "    \"Gender\" : [\"Female\", \"Male\", \"Female\"]\n",
    "}\n",
    "\n",
    "df = pd.DataFrame(data)\n",
    "\n",
    "print(\"Pandas Series: \\n\")\n",
    "print(name)\n",
    "print(\"\\n\")\n",
    "\n",
    "print(\"Pandas DataFrame: \\n\")\n",
    "print(df)"
   ]
  },
  {
   "cell_type": "code",
   "execution_count": 8,
   "id": "0619e541-0c9e-4e61-9137-2f392aca19dd",
   "metadata": {},
   "outputs": [
    {
     "data": {
      "text/html": [
       "<div>\n",
       "<style scoped>\n",
       "    .dataframe tbody tr th:only-of-type {\n",
       "        vertical-align: middle;\n",
       "    }\n",
       "\n",
       "    .dataframe tbody tr th {\n",
       "        vertical-align: top;\n",
       "    }\n",
       "\n",
       "    .dataframe thead th {\n",
       "        text-align: right;\n",
       "    }\n",
       "</style>\n",
       "<table border=\"1\" class=\"dataframe\">\n",
       "  <thead>\n",
       "    <tr style=\"text-align: right;\">\n",
       "      <th></th>\n",
       "      <th>years_of_experience</th>\n",
       "      <th>functional_competency_score</th>\n",
       "      <th>top1_skills_score</th>\n",
       "      <th>top2_skills_score</th>\n",
       "      <th>top3_skills_score</th>\n",
       "      <th>behavior_competency_score</th>\n",
       "      <th>top1_behavior_skill_score</th>\n",
       "      <th>top2_behavior_skill_score</th>\n",
       "      <th>top3_behavior_skill_score</th>\n",
       "      <th>call_for_interview</th>\n",
       "    </tr>\n",
       "  </thead>\n",
       "  <tbody>\n",
       "    <tr>\n",
       "      <th>0</th>\n",
       "      <td>0.333333</td>\n",
       "      <td>0.749498</td>\n",
       "      <td>0.777778</td>\n",
       "      <td>0.7</td>\n",
       "      <td>0.8</td>\n",
       "      <td>0.769231</td>\n",
       "      <td>0.931689</td>\n",
       "      <td>0.662042</td>\n",
       "      <td>0.752463</td>\n",
       "      <td>1</td>\n",
       "    </tr>\n",
       "    <tr>\n",
       "      <th>1</th>\n",
       "      <td>0.133333</td>\n",
       "      <td>0.490638</td>\n",
       "      <td>0.777778</td>\n",
       "      <td>0.3</td>\n",
       "      <td>0.4</td>\n",
       "      <td>0.153846</td>\n",
       "      <td>0.352093</td>\n",
       "      <td>0.132231</td>\n",
       "      <td>0.316905</td>\n",
       "      <td>0</td>\n",
       "    </tr>\n",
       "    <tr>\n",
       "      <th>2</th>\n",
       "      <td>0.000000</td>\n",
       "      <td>0.460256</td>\n",
       "      <td>0.444444</td>\n",
       "      <td>0.3</td>\n",
       "      <td>0.3</td>\n",
       "      <td>0.051282</td>\n",
       "      <td>0.052347</td>\n",
       "      <td>0.089765</td>\n",
       "      <td>0.254859</td>\n",
       "      <td>0</td>\n",
       "    </tr>\n",
       "    <tr>\n",
       "      <th>3</th>\n",
       "      <td>0.000000</td>\n",
       "      <td>0.507347</td>\n",
       "      <td>0.555556</td>\n",
       "      <td>0.4</td>\n",
       "      <td>0.5</td>\n",
       "      <td>0.384615</td>\n",
       "      <td>0.309913</td>\n",
       "      <td>0.289758</td>\n",
       "      <td>0.440784</td>\n",
       "      <td>0</td>\n",
       "    </tr>\n",
       "    <tr>\n",
       "      <th>4</th>\n",
       "      <td>0.400000</td>\n",
       "      <td>0.662020</td>\n",
       "      <td>0.666667</td>\n",
       "      <td>0.7</td>\n",
       "      <td>0.5</td>\n",
       "      <td>0.461538</td>\n",
       "      <td>0.497929</td>\n",
       "      <td>0.397544</td>\n",
       "      <td>0.392760</td>\n",
       "      <td>1</td>\n",
       "    </tr>\n",
       "  </tbody>\n",
       "</table>\n",
       "</div>"
      ],
      "text/plain": [
       "   years_of_experience  functional_competency_score  top1_skills_score  \\\n",
       "0             0.333333                     0.749498           0.777778   \n",
       "1             0.133333                     0.490638           0.777778   \n",
       "2             0.000000                     0.460256           0.444444   \n",
       "3             0.000000                     0.507347           0.555556   \n",
       "4             0.400000                     0.662020           0.666667   \n",
       "\n",
       "   top2_skills_score  top3_skills_score  behavior_competency_score  \\\n",
       "0                0.7                0.8                   0.769231   \n",
       "1                0.3                0.4                   0.153846   \n",
       "2                0.3                0.3                   0.051282   \n",
       "3                0.4                0.5                   0.384615   \n",
       "4                0.7                0.5                   0.461538   \n",
       "\n",
       "   top1_behavior_skill_score  top2_behavior_skill_score  \\\n",
       "0                   0.931689                   0.662042   \n",
       "1                   0.352093                   0.132231   \n",
       "2                   0.052347                   0.089765   \n",
       "3                   0.309913                   0.289758   \n",
       "4                   0.497929                   0.397544   \n",
       "\n",
       "   top3_behavior_skill_score  call_for_interview  \n",
       "0                   0.752463                   1  \n",
       "1                   0.316905                   0  \n",
       "2                   0.254859                   0  \n",
       "3                   0.440784                   0  \n",
       "4                   0.392760                   1  "
      ]
     },
     "execution_count": 8,
     "metadata": {},
     "output_type": "execute_result"
    }
   ],
   "source": [
    "#Q5. What are some common functions you can use to manipulate data in a Pandas DataFrame? \n",
    "#Can you give an example of when you might use one of these functions?\n",
    "'''\n",
    "Pandas provides a rich set of functions for manipulating data in a DataFrame. Here are some common functions and their uses:\n",
    "\n",
    "1. head() and tail()\n",
    "2. info()\n",
    "3. describe()\n",
    "4. drop()\n",
    "5. sort_values()\n",
    "6. groupby()\n",
    "7. pivot_table()\n",
    "8. map() \n",
    "'''\n",
    "\n",
    "df = pd.read_csv(\"dataset.csv\")\n",
    "df.head()"
   ]
  },
  {
   "cell_type": "code",
   "execution_count": null,
   "id": "e28d9772-372b-4e8c-92c5-3d464f8a4691",
   "metadata": {},
   "outputs": [],
   "source": [
    "#Q6. Which of the following is mutable in nature Series, DataFrame, Panel?\n",
    "'''\n",
    "Both Series and DataFrame are mutable in nature, meaning that their values can be modified after they have been created.\n",
    "'''"
   ]
  },
  {
   "cell_type": "code",
   "execution_count": 9,
   "id": "c010da63-1f66-4b43-9500-b12859fe6b3b",
   "metadata": {},
   "outputs": [
    {
     "name": "stdout",
     "output_type": "stream",
     "text": [
      "     Name  Age  Gender\n",
      "0   Alice   25  Female\n",
      "1     Bob   30    Male\n",
      "2  Claire   27  Female\n"
     ]
    }
   ],
   "source": [
    "#Q7. Create a DataFrame using multiple Series. Explain with an example.\n",
    "'''\n",
    "To create a DataFrame using multiple Series, we can pass a dictionary where each key corresponds to a column name, \n",
    "and each value is a Series object with the data for that column.\n",
    "'''\n",
    "import pandas as pd\n",
    "\n",
    "names = pd.Series(['Alice', 'Bob', 'Claire'])\n",
    "ages = pd.Series([25, 30, 27])\n",
    "genders = pd.Series(['Female', 'Male', 'Female'])\n",
    "\n",
    "df = pd.DataFrame({'Name': names, 'Age': ages, 'Gender': genders})\n",
    "print(df)\n"
   ]
  },
  {
   "cell_type": "code",
   "execution_count": null,
   "id": "d87afa81-e775-484a-90db-c8cd0ee8cc00",
   "metadata": {},
   "outputs": [],
   "source": []
  }
 ],
 "metadata": {
  "kernelspec": {
   "display_name": "Python 3 (ipykernel)",
   "language": "python",
   "name": "python3"
  },
  "language_info": {
   "codemirror_mode": {
    "name": "ipython",
    "version": 3
   },
   "file_extension": ".py",
   "mimetype": "text/x-python",
   "name": "python",
   "nbconvert_exporter": "python",
   "pygments_lexer": "ipython3",
   "version": "3.10.8"
  }
 },
 "nbformat": 4,
 "nbformat_minor": 5
}
