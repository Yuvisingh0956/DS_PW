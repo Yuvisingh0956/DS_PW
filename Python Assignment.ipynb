{
 "cells": [
  {
   "cell_type": "code",
   "execution_count": 9,
   "id": "3bc42b7b",
   "metadata": {},
   "outputs": [
    {
     "name": "stdout",
     "output_type": "stream",
     "text": [
      "55\n",
      "120\n"
     ]
    }
   ],
   "source": [
    "#Q1. Explain with an example each when to use a for loop and a while loop.\n",
    "\n",
    "# We can use for loop when we know how many number of times the execution should be made. \n",
    "# while loop should be used when we don't know how many times the interation will be there.\n",
    "\n",
    "# for loop example: to add all natural numbers upto n:\n",
    "n,sum = 10,0\n",
    "for i in range(n+1):\n",
    "   sum += i\n",
    "print(sum)\n",
    "\n",
    "#while loop example: to get factorial of any natural number n:\n",
    "n,fact = 5,1\n",
    "while (n>0):\n",
    "    fact *= n\n",
    "    n -= 1\n",
    "print(fact)"
   ]
  },
  {
   "cell_type": "code",
   "execution_count": 15,
   "id": "55f30ca8",
   "metadata": {},
   "outputs": [
    {
     "name": "stdout",
     "output_type": "stream",
     "text": [
      "for loop sum:  55\n",
      "for loop product:  3628800\n",
      "while loop sum:  55\n",
      "while loop product:  3628800\n"
     ]
    }
   ],
   "source": [
    "#Q2. Write a python program to print the sum and product of the first 10 natural numbers using for and while loop.\n",
    "\n",
    "#for loop\n",
    "n,sum, prdt = 10,0,1\n",
    "for i in range(1,n+1):\n",
    "    sum += i\n",
    "    prdt *= i\n",
    "print('for loop sum: ',sum)\n",
    "print('for loop product: ',prdt)\n",
    "\n",
    "#while loop\n",
    "n,sum,prdt = 10,0,1\n",
    "while(n>0):\n",
    "    sum += n\n",
    "    prdt *= n\n",
    "    n -= 1\n",
    "print('while loop sum: ',sum)\n",
    "print('while loop product: ',prdt)"
   ]
  },
  {
   "cell_type": "code",
   "execution_count": 18,
   "id": "cefcec62",
   "metadata": {},
   "outputs": [
    {
     "name": "stdout",
     "output_type": "stream",
     "text": [
      "310\n",
      "2250\n"
     ]
    }
   ],
   "source": [
    "#Q3. Create a python program to compute the electricity bill for a household.\n",
    "# The per-unit charges in rupees are as follows: For the first 100 units, the user will be charged Rs. 4.5 per\n",
    "# unit, for the next 100 units, the user will be charged Rs. 6 per unit, and for the next 100 units, the user will\n",
    "# be charged Rs. 10 per unit, After 300 units and above the user will be charged Rs. 20 per unit.\n",
    "# You are required to take the units of electricity consumed in a month from the user as input.\n",
    "# Your program must pass this test case: when the unit of electricity consumed by the user in a month is\n",
    "# 310, the total electricity bill should be 2250.\n",
    "\n",
    "n = int(input())\n",
    "bill = 0\n",
    "\n",
    "if (0 <= n <= 100):\n",
    "    bill += 4.5 *n\n",
    "\n",
    "elif (100 < n <= 200):\n",
    "    bill += 450 + ((n-100)*6)\n",
    "\n",
    "elif (200 < n <= 300):\n",
    "    bill += 450 + 600 + ((n-200)*10)\n",
    "\n",
    "elif (n > 300):\n",
    "    bill += 450 + 600 + 1000 + ((n-300)*20)\n",
    "    \n",
    "print(bill)"
   ]
  },
  {
   "cell_type": "code",
   "execution_count": 28,
   "id": "3eaa93f6",
   "metadata": {},
   "outputs": [
    {
     "name": "stdout",
     "output_type": "stream",
     "text": [
      "for loop:  [2, 4, 5, 6, 8, 10, 12, 14, 15, 16, 18, 20, 22, 24, 25, 26, 28, 30, 32, 34, 35, 36, 38, 40, 42, 44, 45, 46, 48, 50, 52, 54, 55, 56, 58, 60, 62, 64, 65, 66, 68, 70, 72, 74, 75, 76, 78, 80, 82, 84, 85, 86, 88, 90, 92, 94, 95, 96, 98, 100]\n",
      "\n",
      "while loop:  [2, 4, 5, 6, 8, 10, 12, 14, 15, 16, 18, 20, 22, 24, 25, 26, 28, 30, 32, 34, 35, 36, 38, 40, 42, 44, 45, 46, 48, 50, 52, 54, 55, 56, 58, 60, 62, 64, 65, 66, 68, 70, 72, 74, 75, 76, 78, 80, 82, 84, 85, 86, 88, 90, 92, 94, 95, 96, 98, 100]\n"
     ]
    }
   ],
   "source": [
    "#Q4. Create a list of numbers from 1 to 100. Use for loop and while loop to calculate the cube of each number \n",
    "#and if the cube of that number is divisible by 4 or 5 then append that number in a list and print that list.\n",
    "\n",
    "l = list(range(1,101))\n",
    "fo, whil = [],[]\n",
    "\n",
    "#for loop\n",
    "for i in l:\n",
    "    z = i**3\n",
    "    if (z%4 == 0 or z%5 == 0):\n",
    "        fo.append(i)\n",
    "print('for loop: ', fo)\n",
    "print()\n",
    "#while loop\n",
    "while (len(l)>0):\n",
    "    z = l[0] ** 3\n",
    "    if (z%4 == 0 or z%5 == 0):\n",
    "        whil.append(l[0])\n",
    "    del l[0]\n",
    "\n",
    "print('while loop: ', whil)"
   ]
  },
  {
   "cell_type": "code",
   "execution_count": 29,
   "id": "787d5f98",
   "metadata": {},
   "outputs": [
    {
     "name": "stdout",
     "output_type": "stream",
     "text": [
      "11\n"
     ]
    }
   ],
   "source": [
    "#Q5. Write a program to filter count vowels in the below-given string.\n",
    "\n",
    "string = \"I want to become a data scientist\"\n",
    "vowel = ['a', 'e', 'i', 'o', 'u']\n",
    "count = 0\n",
    "for i in string:\n",
    "    if i in vowel:\n",
    "        count += 1\n",
    "print(count)"
   ]
  },
  {
   "cell_type": "code",
   "execution_count": null,
   "id": "cc545f55",
   "metadata": {},
   "outputs": [],
   "source": []
  }
 ],
 "metadata": {
  "kernelspec": {
   "display_name": "Python 3 (ipykernel)",
   "language": "python",
   "name": "python3"
  },
  "language_info": {
   "codemirror_mode": {
    "name": "ipython",
    "version": 3
   },
   "file_extension": ".py",
   "mimetype": "text/x-python",
   "name": "python",
   "nbconvert_exporter": "python",
   "pygments_lexer": "ipython3",
   "version": "3.9.12"
  }
 },
 "nbformat": 4,
 "nbformat_minor": 5
}
