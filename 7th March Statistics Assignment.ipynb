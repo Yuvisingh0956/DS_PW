{
 "cells": [
  {
   "cell_type": "code",
   "execution_count": null,
   "id": "3cc7a1d9-1224-4434-968a-fd5ea311ce7e",
   "metadata": {},
   "outputs": [],
   "source": [
    "#Q1. What are the three measures of central tendency?\n",
    "'''\n",
    "1. Mean\n",
    "2. Median\n",
    "3. Mode\n",
    "'''"
   ]
  },
  {
   "cell_type": "code",
   "execution_count": null,
   "id": "990a5395-72fe-4db5-93ae-b30226c0b957",
   "metadata": {},
   "outputs": [],
   "source": [
    "#Q2. What is the difference between the mean, median, and mode? How are they used to measure the central tendency of a dataset?\n",
    "'''\n",
    "The mean is the most commonly used measure of central tendency, but it can be affected by outliers, which are values that are much higher \n",
    "or lower than the rest of the data. The median is not affected by outliers, so it is often used when there are outliers in the data set.\n",
    "The mode is not affected by outliers or by the distribution of the data, so it is often used when the data is not normally distributed.\n",
    "\n",
    "The mean is the most commonly used measure of central tendency, but it can be affected by outliers. The median is not affected by outliers, \n",
    "so it is often used when there are outliers in the data set. The mode is not affected by outliers or by the distribution of the data, \n",
    "so it is often used when the data is not normally distributed.\n",
    "'''"
   ]
  },
  {
   "cell_type": "code",
   "execution_count": 1,
   "id": "31092e2d-0785-459c-8d9f-9284d24a96ef",
   "metadata": {},
   "outputs": [
    {
     "name": "stdout",
     "output_type": "stream",
     "text": [
      "Mean:  177.01875\n",
      "Median:  177.0\n",
      "Mode:  ModeResult(mode=array([177.]), count=array([3]))\n"
     ]
    },
    {
     "name": "stderr",
     "output_type": "stream",
     "text": [
      "/tmp/ipykernel_127/2368271606.py:10: FutureWarning: Unlike other reduction functions (e.g. `skew`, `kurtosis`), the default behavior of `mode` typically preserves the axis it acts along. In SciPy 1.11.0, this behavior will change: the default value of `keepdims` will become False, the `axis` over which the statistic is taken will be eliminated, and the value None will no longer be accepted. Set `keepdims` to True or False to avoid this warning.\n",
      "  print(\"Mode: \", stats.mode(data))\n"
     ]
    }
   ],
   "source": [
    "#Q3. Measure the three measures of central tendency for the given height data:\n",
    "#[178,177,176,177,178.2,178,175,179,180,175,178.9,176.2,177,172.5,178,176.5]\n",
    "\n",
    "import numpy as np\n",
    "from scipy import stats\n",
    "\n",
    "data = [178,177,176,177,178.2,178,175,179,180,175,178.9,176.2,177,172.5,178,176.5]\n",
    "print(\"Mean: \", np.mean(data))\n",
    "print(\"Median: \", np.median(data))\n",
    "print(\"Mode: \", stats.mode(data))"
   ]
  },
  {
   "cell_type": "code",
   "execution_count": 4,
   "id": "f74a7534-9e6d-4520-8236-c638b58ea480",
   "metadata": {},
   "outputs": [
    {
     "name": "stdout",
     "output_type": "stream",
     "text": [
      "Standard deviation of the given data:  1.7885814036548633\n"
     ]
    }
   ],
   "source": [
    "#Q4. Find the standard deviation for the given data:\n",
    "#[178,177,176,177,178.2,178,175,179,180,175,178.9,176.2,177,172.5,178,176.5]\n",
    "\n",
    "import numpy as np\n",
    "data = [178,177,176,177,178.2,178,175,179,180,175,178.9,176.2,177,172.5,178,176.5]\n",
    "print(\"Standard deviation of the given data: \",np.std(data))"
   ]
  },
  {
   "cell_type": "code",
   "execution_count": null,
   "id": "0a51a89d-f34f-4124-bc33-d2fce3ec9429",
   "metadata": {},
   "outputs": [],
   "source": [
    "#Q5. How are measures of dispersion such as range, variance, and standard deviation used to describe the spread of a dataset? Provide an example.\n",
    "'''\n",
    "The range is the simplest measure of dispersion. It is the difference between the highest and lowest values in the dataset. \n",
    "For example, if the heights of a group of people range from 5 feet to 6 feet, the range would be 1 foot.\n",
    "\n",
    "The variance is a more complex measure of dispersion. It is calculated by taking the average of the squared differences between\n",
    "each value in the dataset and the mean. \n",
    "For example, if the heights of a group of people have a mean of 5.5 feet and a variance of 0.25, this means that the average height is 0.25 feet away from the mean.\n",
    "\n",
    "The standard deviation is a measure of dispersion that is based on the variance. It is calculated by taking the square root of the variance. \n",
    "For example, if the standard deviation of the heights of a group of people is 0.5 feet, this means that the average height is 0.5 feet away from the mean.\n",
    "\n",
    "\n",
    "Measures of dispersion are used to describe the spread of a dataset. They tell us how much variation there is in the data, and how spread out the values are. There are three main measures of dispersion: range, variance, and standard deviation.\n",
    "\n",
    "The range is the simplest measure of dispersion. It is the difference between the highest and lowest values in the dataset. For example, if the heights of a group of people range from 5 feet to 6 feet, the range would be 1 foot.\n",
    "\n",
    "The variance is a more complex measure of dispersion. It is calculated by taking the average of the squared differences between each value in the dataset and the mean. For example, if the heights of a group of people have a mean of 5.5 feet and a variance of 0.25, this means that the average height is 0.25 feet away from the mean.\n",
    "\n",
    "The standard deviation is a measure of dispersion that is based on the variance. It is calculated by taking the square root of the variance. For example, if the standard deviation of the heights of a group of people is 0.5 feet, this means that the average height is 0.5 feet away from the mean.\n",
    "\n",
    "Here is an example of how measures of dispersion can be used to describe the spread of a dataset:\n",
    "The heights of a group of people range from 5 feet to 6 feet. The variance is 0.25 and the standard deviation is 0.5 feet. \n",
    "This tells us that the heights of the people in the group are spread out over a range of 1 foot, and that the average height is 0.5 feet away from the mean.\n",
    "'''"
   ]
  },
  {
   "cell_type": "code",
   "execution_count": null,
   "id": "698a7f58-03f9-4a78-b112-25486aa256b2",
   "metadata": {},
   "outputs": [],
   "source": [
    "#Q6. What is a Venn diagram?\n",
    "\"A Venn diagram is a diagram that shows the logical relationship between sets.\""
   ]
  },
  {
   "cell_type": "code",
   "execution_count": null,
   "id": "898f6f0e-1c75-484a-8bc8-9600a175f26d",
   "metadata": {},
   "outputs": [],
   "source": [
    "# Q7. For the two given sets A = (2,3,4,5,6,7) & B = (0,2,6,8,10). Find:\n",
    "# (i) A n B\n",
    "# (ii) A ⋃ B\n",
    "'''\n",
    "A = (2,3,4,5,6,7) \n",
    "B = (0,2,6,8,10)\n",
    "\n",
    "(i) A n B = (2,6)\n",
    "(ii) A ⋃ B = (0,2,3,4,5,6,7,8,10)\n",
    "'''"
   ]
  },
  {
   "cell_type": "code",
   "execution_count": null,
   "id": "b61b9814-a856-4693-93bb-260ec16b5ac4",
   "metadata": {},
   "outputs": [],
   "source": [
    "#Q8. What do you understand about skewness in data?\n",
    "'''\n",
    "Skewness is a measure of the asymmetry of a distribution. A distribution is said to be symmetric when the mean, median, and mode are equal. \n",
    "A distribution is said to be skewed when the mean, median, and mode are not equal.\n",
    "'''"
   ]
  },
  {
   "cell_type": "code",
   "execution_count": null,
   "id": "ac552a57-b859-4419-ab48-cca029b20c3a",
   "metadata": {},
   "outputs": [],
   "source": [
    "#Q9. If a data is right skewed then what will be the position of median with respect to mean?\n",
    "'''\n",
    "If a data is right skewed then the position of median with respect to mean will be at it's left.\n",
    "'''"
   ]
  },
  {
   "cell_type": "code",
   "execution_count": null,
   "id": "a86ffec8-cd5e-464e-bcdf-e173dba1f923",
   "metadata": {},
   "outputs": [],
   "source": [
    "#Q10. Explain the difference between covariance and correlation. How are these measures used in statistical analysis?\n",
    "'''\n",
    "Covariance is a measure of how much two variables vary together. It is calculated by taking the average of the products of the deviations from the mean for each variable. \n",
    "A positive covariance indicates that the variables tend to move in the same direction, while a negative covariance indicates that they tend to move in opposite directions.\n",
    "\n",
    "Correlation is a measure of how closely two variables are related. It is calculated by dividing the covariance by the product of the standard deviations of the two variables. \n",
    "A correlation of +1 indicates a perfect positive relationship, a correlation of -1 indicates a perfect negative relationship, and a correlation of 0 indicates no relationship.\n",
    "\n",
    "Covariance and correlation are both used in statistical analysis to measure the relationship between two variables.\n",
    "Covariance is often used in regression analysis to predict the value of one variable from the value of another variable. \n",
    "Correlation is often used to identify variables that are related to each other, and to measure the strength of the relationship between variables.\n",
    "'''"
   ]
  },
  {
   "cell_type": "code",
   "execution_count": null,
   "id": "53ff3fcb-be48-4843-af16-c9e5451f8fd5",
   "metadata": {},
   "outputs": [],
   "source": [
    "#Q11. What is the formula for calculating the sample mean? Provide an example calculation for a dataset.\n",
    "'''\n",
    "The formula for calculating the sample mean is:\n",
    "x̄ = (Σ xi) / n\n",
    "where:\n",
    "x̄ is the sample mean\n",
    "Σ is the sum of all the values in the dataset\n",
    "xi is each value in the dataset\n",
    "n is the number of values in the dataset\n",
    "\n",
    "For example let's consider this data: 2, 4, 6, 8, 10\n",
    "\n",
    "The sample mean is calculated as follows:\n",
    "x̄ = (2 + 4 + 6 + 8 + 10) / 5 = 6\n",
    "\n",
    "Therefore, the sample mean for this dataset is 6.\n",
    "'''"
   ]
  },
  {
   "cell_type": "code",
   "execution_count": null,
   "id": "889fdff2-9a65-41ec-a9ad-e73a5c7fe0f3",
   "metadata": {},
   "outputs": [],
   "source": [
    "#Q12. For a normal distribution data what is the relationship between its measure of central tendency?\n",
    "\"Mean = Median = Mode\""
   ]
  },
  {
   "cell_type": "code",
   "execution_count": null,
   "id": "9f2f5e4d-7ce5-47ff-9fe4-16dc04c049bd",
   "metadata": {},
   "outputs": [],
   "source": [
    "#Q13. How is covariance different from correlation?\n",
    "'''\n",
    "Covariance is a measure of how much two variables vary together. It is calculated by taking the average of the products of the deviations \n",
    "from the mean for each variable. A positive covariance indicates that the variables tend to move in the same direction, \n",
    "while a negative covariance indicates that they tend to move in opposite directions.\n",
    "\n",
    "Correlation is a measure of how closely two variables are related. It is calculated by dividing the covariance by the product of the \n",
    "standard deviations of the two variables. A correlation of +1 indicates a perfect positive relationship, a correlation of -1 indicates a perfect negative relationship, \n",
    "and a correlation of 0 indicates no relationship.\n",
    "'''"
   ]
  },
  {
   "cell_type": "code",
   "execution_count": null,
   "id": "1d360904-136c-47af-9219-90946aeaf42d",
   "metadata": {},
   "outputs": [],
   "source": [
    "#Q14. How do outliers affect measures of central tendency and dispersion? Provide an example.\n",
    "'''\n",
    "Outliers can affect measures of central tendency and dispersion in a number of ways:\n",
    "\n",
    "Mean: The mean is calculated by adding up all the values in a dataset and dividing by the number of values. \n",
    "Outliers can cause the mean to be pulled towards them, making it an inaccurate representation of the data.\n",
    "\n",
    "Median: The median is the middle value in a dataset when the values are arranged in ascending or descending order. \n",
    "Outliers do not affect the median, as they are not included in the calculation.\n",
    "\n",
    "Mode: The mode is the most frequently occurring value in a dataset. \n",
    "Outliers can affect the mode, as they may be the most frequently occurring value.\n",
    "\n",
    "Range: The range is the difference between the highest and lowest values in a dataset. \n",
    "Outliers can increase the range, as they may be the highest or lowest values.\n",
    "\n",
    "Standard deviation: The standard deviation is a measure of how spread out the values in a dataset are. \n",
    "Outliers can increase the standard deviation, as they may be far from the mean.\n",
    "\n",
    "Here is an example of how outliers can affect measures of central tendency and dispersion:\n",
    "\n",
    "Consider the following dataset: 1, 2, 3, 4, 5\n",
    "\n",
    "The mean, median, mode, range, and standard deviation of this dataset are:\n",
    "\n",
    "Mean: 3\n",
    "Median: 3\n",
    "Mode: 3\n",
    "Range: 4\n",
    "Standard deviation: 1\n",
    "\n",
    "Now, let's add an outlier to this dataset: 1, 2, 3, 4, 5, 100\n",
    "\n",
    "The mean, median, mode, range, and standard deviation of this new dataset are:\n",
    "\n",
    "Mean: 16\n",
    "Median: 4\n",
    "Mode: 3\n",
    "Range: 95\n",
    "Standard deviation: 13.4\n",
    "\n",
    "As we can see, the outlier has caused the mean, median, range, and standard deviation to all increase. \n",
    "This is because the outlier is far from the other values in the dataset, and it is pulling the other values towards it.\n",
    "'''"
   ]
  }
 ],
 "metadata": {
  "kernelspec": {
   "display_name": "Python 3 (ipykernel)",
   "language": "python",
   "name": "python3"
  },
  "language_info": {
   "codemirror_mode": {
    "name": "ipython",
    "version": 3
   },
   "file_extension": ".py",
   "mimetype": "text/x-python",
   "name": "python",
   "nbconvert_exporter": "python",
   "pygments_lexer": "ipython3",
   "version": "3.10.8"
  }
 },
 "nbformat": 4,
 "nbformat_minor": 5
}
