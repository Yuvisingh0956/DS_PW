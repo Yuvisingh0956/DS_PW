{
 "cells": [
  {
   "cell_type": "markdown",
   "id": "55683afd-6faf-4123-acd2-3f2290c52194",
   "metadata": {},
   "source": [
    "# Assignment\n",
    "## 18th March Feature Engineering"
   ]
  },
  {
   "cell_type": "markdown",
   "id": "b9ebc9bb-0a3e-443e-a754-eeb419779f31",
   "metadata": {},
   "source": [
    "### 1. What is the Filter method in feature selection, and how does it work?"
   ]
  },
  {
   "cell_type": "markdown",
   "id": "702b20ef-7a1c-44dd-9d7b-e4b970f78761",
   "metadata": {},
   "source": [
    "It refers to a class of techniques that evaluate the relevance of individual features based on certain criteria and then select or rank features accordingly.\n",
    "\n",
    "Working Method:\n",
    "1. Scoring Criteria\n",
    "2. Ranking or Thresholding\n",
    "3. Feature Subset Selection\n",
    "4. Independence from Learning Algorithm"
   ]
  },
  {
   "cell_type": "markdown",
   "id": "93ddc362-2a88-45a7-8eee-8081c75c57e3",
   "metadata": {},
   "source": [
    "### 2. How does the Wrapper method differ from the Filter method in feature selection?"
   ]
  },
  {
   "cell_type": "markdown",
   "id": "54b80ca6-1715-4a8b-b6a6-619a654554e4",
   "metadata": {},
   "source": [
    "The wrapper method and the filter method are two distinct approaches to feature selection in machine learning.\n",
    "\n",
    "1.Evaluation Metric:\n",
    "\n",
    "Filter Method: Evaluates the relevance of individual features based on certain criteria (e.g., correlation, statistical tests) independently of any machine learning algorithm.\n",
    "\n",
    "Wrapper Method: Evaluates the performance of a machine learning model using a specific subset of features. It involves training and testing a model using different feature subsets and selecting the subset that optimizes the model performance.\n",
    "\n",
    "\n",
    "2. Computational Cost:\n",
    "\n",
    "Filter Method: Typically computationally less expensive since it doesn't involve training a machine learning model. It evaluates features based on predefined criteria.\n",
    "\n",
    "Wrapper Method: Can be computationally expensive, especially for large datasets, as it requires training and evaluating the model for different subsets of features."
   ]
  },
  {
   "cell_type": "markdown",
   "id": "c98c4665-67fe-487f-8344-fd129faf1202",
   "metadata": {},
   "source": [
    "### 3. What are some common techniques used in Embedded feature selection methods?"
   ]
  },
  {
   "cell_type": "markdown",
   "id": "353c6bf6-fddd-4c12-93e1-660f36234bab",
   "metadata": {},
   "source": [
    "1. LASSO\n",
    "2. Ridge Regression\n",
    "3. Elastic Net\n",
    "4. Decision Tree with Feature Importance\n",
    "5. Recursive Feature Elimination(RFE) with Support Vector Machine(SVM)"
   ]
  },
  {
   "cell_type": "markdown",
   "id": "7f7fa49a-5dfb-459a-bd77-aa8aee987d75",
   "metadata": {},
   "source": [
    "### 4. What are some drawbacks of using the Filter method for feature selection?"
   ]
  },
  {
   "cell_type": "markdown",
   "id": "3721a9dd-3c47-4567-82e1-5fe277c85749",
   "metadata": {},
   "source": [
    "1. Ignores Feature Interactions\n",
    "2. Insensitive to the Learning Algorithm\n",
    "3. Limited in Handling Redundancy\n",
    "4. No Consideration of Model Performance\n",
    "5. Potential Information Loss"
   ]
  },
  {
   "cell_type": "markdown",
   "id": "a55ac60f-1007-467b-9421-e9ff4c4be668",
   "metadata": {},
   "source": [
    "### 5. In which situations would you prefer using the Filter method over the Wrapper method for feature selection?"
   ]
  },
  {
   "cell_type": "markdown",
   "id": "28ee4d36-451e-4b1f-b780-9ebd68d0e3cd",
   "metadata": {},
   "source": [
    "1. Large datasets\n",
    "2. High-Dimesional Dataset\n",
    "3. Feature Ranking Needs"
   ]
  },
  {
   "cell_type": "markdown",
   "id": "8a96c7f7-d69c-4cdb-a4f4-f61009f0c089",
   "metadata": {},
   "source": [
    "### 6. In a telecom company, you are working on a project to develop a predictive model for customer churn. You are unsure of which features to include in the model because the dataset contains several different ones. Describe how you would choose the most pertinent attributes for the model using the Filter Method."
   ]
  },
  {
   "cell_type": "markdown",
   "id": "b9b40710-39ad-4f92-b79e-44415d685a4c",
   "metadata": {},
   "source": [
    "When using the Filter Method for feature selection in the context of predicting customer churn in a telecom company, you would follow a systematic process to evaluate the relevance of individual features based on certain criteria.\n",
    "\n",
    "Here's a step-by-step guide on how you might approach this task:\n",
    "1. Understand the Business Context\n",
    "2. Data Exploration\n",
    "3. Define churn\n",
    "4. Select Evaluation Criteria\n",
    "5. Apply Filter Methods\n",
    "6. Rank or Score Features\n",
    "7. Set a Threshold or Top-k Features\n",
    "8. Consider Feature Redundancy\n",
    "9. Validate Results\n",
    "10. Iterate and Refine\n",
    "11. Document the Feature Selection Process"
   ]
  },
  {
   "cell_type": "markdown",
   "id": "807f44bc-094c-4a1e-a0e0-ed29d54450d2",
   "metadata": {},
   "source": [
    "### 7. You are working on a project to predict the outcome of a soccer match. You have a large dataset with many features, including player statistics and team rankings. Explain how you would use the Embedded method to select the most relevant features for the model."
   ]
  },
  {
   "cell_type": "markdown",
   "id": "21707e27-b0cb-48f7-bc77-b7fc3bc14caa",
   "metadata": {},
   "source": [
    "In the context of predicting the outcome of a soccer match, using embedded feature selection methods involves integrating the feature selection process directly into the training of a predictive model. Embedded methods aim to optimize feature selection based on the learning algorithm's inherent capacity to evaluate and prioritize features.\n",
    "\n",
    "Here's how you might use the Embedded method for feature selection in the soccer match prediction project:\n",
    "1. Select a Predictive Model\n",
    "2. Prepare the Dataset\n",
    "3. Split the Dataset\n",
    "4. Train the Predictive Model\n",
    "5. Observe Feature Importance\n",
    "6. Analyze Feature Importance Scores\n",
    "7. Set a Threshold or Select Top Features\n",
    "8. Validate Results\n",
    "9. Fine-Tune the Model\n",
    "10. Interpret Results"
   ]
  },
  {
   "cell_type": "markdown",
   "id": "5943ca5e-eaa7-470c-a8f6-cd17b332af47",
   "metadata": {},
   "source": [
    "### 8. You are working on a project to predict the price of a house based on its features, such as size, location, and age. You have a limited number of features, and you want to ensure that you select the most important ones for the model. Explain how you would use the Wrapper method to select the best set of features for the predictor."
   ]
  },
  {
   "cell_type": "markdown",
   "id": "4473f90a-b5e1-4e23-b23c-b34f28d0510c",
   "metadata": {},
   "source": [
    "Using the Wrapper method for feature selection involves assessing different subsets of features by training and evaluating the predictive model on each subset. This method provides a more direct evaluation of feature combinations by considering the impact on the model's performance. \n",
    "\n",
    "Here's how you might use the Wrapper method to select the best set of features for predicting the price of a house:\n",
    "\n",
    "1. Define the Objective\n",
    "2. Prepare the Dataset\n",
    "3. Split the Dataset\n",
    "4. Choose a Model\n",
    "5. Feature Subset Generation\n",
    "6. Train and Evaluate the Model\n",
    "7. Select the Best Subset\n",
    "8. Validate Results\n",
    "9. Fine-Tune the Model\n",
    "10. Interpret Results"
   ]
  },
  {
   "cell_type": "code",
   "execution_count": null,
   "id": "b35fb8d2-ab22-4c1c-9c18-45326e657cd0",
   "metadata": {},
   "outputs": [],
   "source": []
  }
 ],
 "metadata": {
  "kernelspec": {
   "display_name": "Python 3 (ipykernel)",
   "language": "python",
   "name": "python3"
  },
  "language_info": {
   "codemirror_mode": {
    "name": "ipython",
    "version": 3
   },
   "file_extension": ".py",
   "mimetype": "text/x-python",
   "name": "python",
   "nbconvert_exporter": "python",
   "pygments_lexer": "ipython3",
   "version": "3.10.8"
  }
 },
 "nbformat": 4,
 "nbformat_minor": 5
}
