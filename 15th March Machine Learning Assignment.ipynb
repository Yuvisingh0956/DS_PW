{
 "cells": [
  {
   "cell_type": "code",
   "execution_count": null,
   "id": "24aa16b5-7ab6-48a9-a649-0df3ff8bde30",
   "metadata": {},
   "outputs": [],
   "source": [
    "#Q1- Explain the following with an example:\n",
    "# a) Artificial Intelligence,\n",
    "# b) Machine Learning,\n",
    "# c) Deep Learning\n",
    "'''\n",
    "a) Artificial Intelligence: Smart applications that can perform its own taask without human intervention.\n",
    "Example: Alexa, self driving cars, siri, google home, robots,etc.\n",
    "\n",
    "b) Machine Learning: It provides statstool to analyze, visulaize, predict model, forecasting.\n",
    "Example: Recommendation system in Amazon, Netflix,etc.\n",
    "\n",
    "c) Deep Learning: It is used to mimic the human brain through multi layer neural network.\n",
    "Example: Image recognition, chatbots, etc.\n",
    "'''"
   ]
  },
  {
   "cell_type": "code",
   "execution_count": null,
   "id": "08771b4e-d1e3-4950-a301-859bfc504d73",
   "metadata": {},
   "outputs": [],
   "source": [
    "#Q2- What is supervised learning? List some examples of supervised learning.\n",
    "'''\n",
    "Supervised learning is a type of machine learning where the model is trained on a set of labeled data. \n",
    "The labels provide the model with information about the desired output for a given input. \n",
    "The model then learns to map inputs to outputs based on the labeled data.\n",
    "\n",
    "Examples of supervised learning:\n",
    "\n",
    "Spam filtering\n",
    "Fraud detection\n",
    "Medical diagnosis\n",
    "Financial forecasting\n",
    "Natural language processing\n",
    "Speech recognition\n",
    "Robotics\n",
    "'''"
   ]
  },
  {
   "cell_type": "code",
   "execution_count": null,
   "id": "6baf35f0-a4b1-44b1-9838-b7bfc1074112",
   "metadata": {},
   "outputs": [],
   "source": [
    "#Q3- What is unsupervised learning? List some examples of unsupervised learning.\n",
    "'''\n",
    "\n",
    "Unsupervised learning is a type of machine learning where the model is trained on a set of unlabeled data.\n",
    "The model learns to find patterns in the data without any guidance from labels.\n",
    "\n",
    "Examples of unsupervised learning:\n",
    "\n",
    "Customer segmentation\n",
    "Market basket analysis\n",
    "Text mining\n",
    "Image analysis\n",
    "Gene expression analysis\n",
    "'''"
   ]
  },
  {
   "cell_type": "code",
   "execution_count": null,
   "id": "7790f97d-0fb3-4595-bc6a-ddea064ad53b",
   "metadata": {},
   "outputs": [],
   "source": [
    "#Q4- What is the difference between AI, ML, DL, and DS?\n",
    "'''\n",
    "Artificial intelligence (AI) is a broad term that refers to the ability of machines to learn and perform tasks \n",
    "that are typically associated with human intelligence, such as reasoning, learning, and problem-solving. \n",
    "Machine learning (ML) is a subset of AI that focuses on the development of algorithms that can learn from data without being explicitly programmed. \n",
    "Deep learning (DL) is a subset of ML that uses artificial neural networks to learn from data. Data science (DS) is a field that uses statistical, \n",
    "machine learning, and analytical methods to extract knowledge and insights from data.\n",
    "'''"
   ]
  },
  {
   "cell_type": "code",
   "execution_count": null,
   "id": "4ee5cb77-3267-4c9e-83c4-aa69b8a82f59",
   "metadata": {},
   "outputs": [],
   "source": [
    "#Q5- What are the main differences between supervised, unsupervised, and semi-supervised learning?\n",
    "'''\n",
    "The main differences between supervised, unsupervised, and semi-supervised learning are the following:\n",
    "\n",
    "Supervised learning is a type of machine learning where the model is trained on a set of labeled data. \n",
    "The labels provide the model with information about the desired output for a given input. \n",
    "The model then learns to map inputs to outputs based on the labeled data.\n",
    "\n",
    "\n",
    "Unsupervised learning is a type of machine learning where the model is trained on a set of unlabeled data. \n",
    "The model learns to find patterns in the data without any guidance from labels.\n",
    "\n",
    "\n",
    "Semi-supervised learning is a type of machine learning that falls somewhere in between supervised and unsupervised learning. \n",
    "The model is trained on a set of labeled data and a set of unlabeled data. \n",
    "The labeled data provides the model with information about the desired output for a given input, \n",
    "while the unlabeled data allows the model to learn more about the data distribution.\n",
    "'''"
   ]
  },
  {
   "cell_type": "code",
   "execution_count": null,
   "id": "dfa09f8e-b49a-447c-b985-da2adfbfd624",
   "metadata": {},
   "outputs": [],
   "source": [
    "#Q6- What is train, test and validation split? Explain the importance of each term.\n",
    "'''\n",
    "Train, test, and validation split is a technique used in machine learning to evaluate the performance of a model. \n",
    "The data is split into three sets: the training set, the test set, and the validation set. \n",
    "The training set is used to train the model, the test set is used to evaluate the performance of the model, \n",
    "and the validation set is used to tune the hyperparameters of the model.\n",
    "\n",
    "The training set is the largest set, and it is used to train the model. \n",
    "The model is trained by repeatedly showing it examples from the training set and asking it to predict the correct output. \n",
    "The model learns to map inputs to outputs by adjusting its parameters based on the feedback it receives from the training set.\n",
    "\n",
    "The test set is a smaller set that is used to evaluate the performance of the model. \n",
    "The model is not trained on the test set, so it has not seen the examples in the test set before. \n",
    "The model's performance on the test set is a good indication of how well it will perform on new data.\n",
    "\n",
    "The validation set is a small set that is used to tune the hyperparameters of the model. \n",
    "The hyperparameters are the settings of the model that control its behavior. \n",
    "The hyperparameters are tuned by repeatedly training the model on the training set and evaluating its performance on the validation set. \n",
    "The hyperparameters that result in the best performance on the validation set are then used to train the final model.\n",
    "'''"
   ]
  },
  {
   "cell_type": "code",
   "execution_count": null,
   "id": "7cd2bb40-faf1-4ac1-abba-99dc17cc860f",
   "metadata": {},
   "outputs": [],
   "source": [
    "#Q7- How can unsupervised learning be used in anomaly direction?\n",
    "'''\n",
    "\n",
    "Unsupervised learning can be used in anomaly detection to identify data points that are unusual or unexpected. \n",
    "This can be useful for a variety of applications, such as fraud detection, medical diagnosis, and industrial process monitoring.\n",
    "'''"
   ]
  },
  {
   "cell_type": "code",
   "execution_count": null,
   "id": "5b3ea786-afe8-4a1f-9e10-860202b2b4dd",
   "metadata": {},
   "outputs": [],
   "source": [
    "#Q8- List down some commonly used supervised learning algorithms and unsupervised learning algorithms.\n",
    "'''\n",
    "Here are some commonly used supervised learning algorithms:\n",
    "\n",
    "1. Linear regression:This algorithm is used to predict a continuous value from an input.\n",
    "2. Logistic regression: This algorithm is used to predict a binary value from an input.\n",
    "3. Decision trees: This algorithm is used to create a model that can be used to make predictions.\n",
    "4. Support vector machines (SVMs): This algorithm is used to find the best hyperplane that separates two classes of data.\n",
    "5. Random forests: This algorithm is a combination of decision trees that is used to make predictions.\n",
    "6. Neural networks: This algorithm is a powerful machine learning algorithm that can be used to solve a variety of problems.\n",
    "\n",
    "Here are some commonly used unsupervised learning algorithms:\n",
    "\n",
    "1. K-means clustering: This algorithm is used to group data points together based on their similarities.\n",
    "2. Hierarchical clustering: This algorithm is used to create a hierarchy of clusters.\n",
    "3. Principal component analysis (PCA): This algorithm is used to reduce the dimensionality of data.\n",
    "4. Apriori algorithm: This algorithm is used to find frequent itemsets in data.\n",
    "5. Gaussian mixture models (GMMs): This algorithm is used to model the distribution of data.\n",
    "'''"
   ]
  }
 ],
 "metadata": {
  "kernelspec": {
   "display_name": "Python 3 (ipykernel)",
   "language": "python",
   "name": "python3"
  },
  "language_info": {
   "codemirror_mode": {
    "name": "ipython",
    "version": 3
   },
   "file_extension": ".py",
   "mimetype": "text/x-python",
   "name": "python",
   "nbconvert_exporter": "python",
   "pygments_lexer": "ipython3",
   "version": "3.10.8"
  }
 },
 "nbformat": 4,
 "nbformat_minor": 5
}
