{
 "cells": [
  {
   "cell_type": "code",
   "execution_count": 6,
   "id": "d9962e5c-7754-4c11-8abc-5f335309d56a",
   "metadata": {},
   "outputs": [
    {
     "data": {
      "text/html": [
       "<div>\n",
       "<style scoped>\n",
       "    .dataframe tbody tr th:only-of-type {\n",
       "        vertical-align: middle;\n",
       "    }\n",
       "\n",
       "    .dataframe tbody tr th {\n",
       "        vertical-align: top;\n",
       "    }\n",
       "\n",
       "    .dataframe thead th {\n",
       "        text-align: right;\n",
       "    }\n",
       "</style>\n",
       "<table border=\"1\" class=\"dataframe\">\n",
       "  <thead>\n",
       "    <tr style=\"text-align: right;\">\n",
       "      <th></th>\n",
       "      <th>time_spent</th>\n",
       "      <th>scores</th>\n",
       "    </tr>\n",
       "  </thead>\n",
       "  <tbody>\n",
       "    <tr>\n",
       "      <th>time_spent</th>\n",
       "      <td>1.000000</td>\n",
       "      <td>0.991541</td>\n",
       "    </tr>\n",
       "    <tr>\n",
       "      <th>scores</th>\n",
       "      <td>0.991541</td>\n",
       "      <td>1.000000</td>\n",
       "    </tr>\n",
       "  </tbody>\n",
       "</table>\n",
       "</div>"
      ],
      "text/plain": [
       "            time_spent    scores\n",
       "time_spent    1.000000  0.991541\n",
       "scores        0.991541  1.000000"
      ]
     },
     "execution_count": 6,
     "metadata": {},
     "output_type": "execute_result"
    }
   ],
   "source": [
    "# Q1. Pearson correlation coefficient is a measure of the linear relationship between two variables. Suppose\n",
    "# you have collected data on the amount of time students spend studying for an exam and their final exam\n",
    "# scores. Calculate the Pearson correlation coefficient between these two variables and interpret the result.\n",
    "import numpy as np\n",
    "import pandas as pd\n",
    "\n",
    "#number of hours studied per week\n",
    "time_spent = [20,15,30,29,21,34]\n",
    "\n",
    "#total score by the students\n",
    "scores = [70,55,89,86,72,95]\n",
    "\n",
    "df = pd.DataFrame({'time_spent': time_spent,'scores': scores})\n",
    "\n",
    "df.corr(method = 'pearson')\n",
    "\n",
    "'''The 0.99 correlation between scores and time spent shows that clearly who study for long hours score more.\n",
    "Hence indicating positive correlation.'''"
   ]
  },
  {
   "cell_type": "code",
   "execution_count": 11,
   "id": "cc0a7e63-afaa-4ba2-95a4-5e62296958a0",
   "metadata": {},
   "outputs": [
    {
     "data": {
      "text/html": [
       "<div>\n",
       "<style scoped>\n",
       "    .dataframe tbody tr th:only-of-type {\n",
       "        vertical-align: middle;\n",
       "    }\n",
       "\n",
       "    .dataframe tbody tr th {\n",
       "        vertical-align: top;\n",
       "    }\n",
       "\n",
       "    .dataframe thead th {\n",
       "        text-align: right;\n",
       "    }\n",
       "</style>\n",
       "<table border=\"1\" class=\"dataframe\">\n",
       "  <thead>\n",
       "    <tr style=\"text-align: right;\">\n",
       "      <th></th>\n",
       "      <th>sleep_hours</th>\n",
       "      <th>job_satisfaction</th>\n",
       "    </tr>\n",
       "  </thead>\n",
       "  <tbody>\n",
       "    <tr>\n",
       "      <th>sleep_hours</th>\n",
       "      <td>1.000000</td>\n",
       "      <td>0.238998</td>\n",
       "    </tr>\n",
       "    <tr>\n",
       "      <th>job_satisfaction</th>\n",
       "      <td>0.238998</td>\n",
       "      <td>1.000000</td>\n",
       "    </tr>\n",
       "  </tbody>\n",
       "</table>\n",
       "</div>"
      ],
      "text/plain": [
       "                  sleep_hours  job_satisfaction\n",
       "sleep_hours          1.000000          0.238998\n",
       "job_satisfaction     0.238998          1.000000"
      ]
     },
     "execution_count": 11,
     "metadata": {},
     "output_type": "execute_result"
    }
   ],
   "source": [
    "# Q2. Spearman's rank correlation is a measure of the monotonic relationship between two variables.\n",
    "# Suppose you have collected data on the amount of sleep individuals get each night and their overall job\n",
    "# satisfaction level on a scale of 1 to 10. Calculate the Spearman's rank correlation between these two\n",
    "# variables and interpret the result.\n",
    "\n",
    "import numpy as np\n",
    "from scipy.stats import spearmanr\n",
    "\n",
    "# Generate random data\n",
    "np.random.seed(42)\n",
    "sleep = np.random.randint(4, 10, 50)  # Amount of sleep (hours) from 4 - 10 hours\n",
    "job_satisfaction = np.random.randint(1, 11, 50)  # Job satisfaction level between 1 - 10\n",
    "\n",
    "df = pd.DataFrame({'sleep_hours': sleep,'job_satisfaction': job_satisfaction})\n",
    "\n",
    "df.corr(method = 'spearman')\n",
    "\n",
    "'''\n",
    "The positive corre;ation of 0.23 shows that the sleep hours and job satisfaction are weakly positively correlated.\n",
    "Hence it shows that people kind off perform well when they take more sleep.\n",
    "'''"
   ]
  },
  {
   "cell_type": "code",
   "execution_count": 17,
   "id": "bf01d750-49e9-48ff-a3a9-6361c4000b98",
   "metadata": {},
   "outputs": [
    {
     "name": "stdout",
     "output_type": "stream",
     "text": [
      "Pearson correlation coefficient: \n",
      "\n",
      "                exercise_hours       bmi\n",
      "exercise_hours        1.000000 -0.235917\n",
      "bmi                  -0.235917  1.000000\n",
      "\n",
      "Spearman's rank correlation coefficient: \n",
      "\n",
      "                exercise_hours       bmi\n",
      "exercise_hours        1.000000 -0.239383\n",
      "bmi                  -0.239383  1.000000\n"
     ]
    }
   ],
   "source": [
    "# Q3. Suppose you are conducting a study to examine the relationship between the number of hours of\n",
    "# exercise per week and body mass index (BMI) in a sample of adults. You collected data on both variables\n",
    "# for 50 participants. Calculate the Pearson correlation coefficient and the Spearman's rank correlation\n",
    "# between these two variables and compare the results.\n",
    "import numpy as np\n",
    "import pandas as pd\n",
    "\n",
    "# Generate random data\n",
    "np.random.seed(42)\n",
    "exercise_hours = np.random.randint(1, 10, 50)  # Number of exercise hours per week\n",
    "bmi = np.random.uniform(18.5, 35, 50)  # Body Mass Index (BMI)\n",
    "\n",
    "df = pd.DataFrame({'exercise_hours': exercise_hours, 'bmi': bmi})\n",
    "\n",
    "# Calculate Pearson correlation coefficient\n",
    "pearson_corr = df.corr(method = 'pearson')\n",
    "\n",
    "# Calculate Spearman's rank correlation\n",
    "spearman_corr = df.corr(method = 'spearman')\n",
    "\n",
    "# Interpret the results\n",
    "print(\"Pearson correlation coefficient: \\n\")\n",
    "print(pearson_corr)\n",
    "print(\"\\nSpearman's rank correlation coefficient: \\n\")\n",
    "print(spearman_corr)\n",
    "\n",
    "\"Both the correlation almost shows the same result and tell that bmi and weekly exrcise hours are negatively corrleated.\""
   ]
  },
  {
   "cell_type": "code",
   "execution_count": 22,
   "id": "f89a708b-a095-48cc-8333-8411a10d6194",
   "metadata": {},
   "outputs": [
    {
     "data": {
      "text/html": [
       "<div>\n",
       "<style scoped>\n",
       "    .dataframe tbody tr th:only-of-type {\n",
       "        vertical-align: middle;\n",
       "    }\n",
       "\n",
       "    .dataframe tbody tr th {\n",
       "        vertical-align: top;\n",
       "    }\n",
       "\n",
       "    .dataframe thead th {\n",
       "        text-align: right;\n",
       "    }\n",
       "</style>\n",
       "<table border=\"1\" class=\"dataframe\">\n",
       "  <thead>\n",
       "    <tr style=\"text-align: right;\">\n",
       "      <th></th>\n",
       "      <th>watch_hours</th>\n",
       "      <th>physical_activity</th>\n",
       "    </tr>\n",
       "  </thead>\n",
       "  <tbody>\n",
       "    <tr>\n",
       "      <th>watch_hours</th>\n",
       "      <td>1.000000</td>\n",
       "      <td>-0.243769</td>\n",
       "    </tr>\n",
       "    <tr>\n",
       "      <th>physical_activity</th>\n",
       "      <td>-0.243769</td>\n",
       "      <td>1.000000</td>\n",
       "    </tr>\n",
       "  </tbody>\n",
       "</table>\n",
       "</div>"
      ],
      "text/plain": [
       "                   watch_hours  physical_activity\n",
       "watch_hours           1.000000          -0.243769\n",
       "physical_activity    -0.243769           1.000000"
      ]
     },
     "execution_count": 22,
     "metadata": {},
     "output_type": "execute_result"
    }
   ],
   "source": [
    "# Q4. A researcher is interested in examining the relationship between the number of hours individuals\n",
    "# spend watching television per day and their level of physical activity. The researcher collected data on\n",
    "# both variables from a sample of 50 participants. Calculate the Pearson correlation coefficient between\n",
    "# these two variables.\n",
    "\n",
    "import numpy as np\n",
    "import pandas as pd\n",
    "\n",
    "np.random.seed(42)\n",
    "watch_hours = np.random.randint(1,16,50)\n",
    "physical_activity = np.random.uniform(1,10,50)\n",
    "\n",
    "df = pd.DataFrame({'watch_hours': watch_hours, 'physical_activity': physical_activity})\n",
    "\n",
    "df.corr()\n",
    "\n",
    "'''We get a negative correlation between watch hours and physical activity hours.\n",
    "So it means those who watch more TV do less physical activity.'''"
   ]
  },
  {
   "cell_type": "code",
   "execution_count": 8,
   "id": "f270a50b-b524-46ea-b73e-6bc6572afaed",
   "metadata": {},
   "outputs": [
    {
     "name": "stdout",
     "output_type": "stream",
     "text": [
      "   age  Soft_drink_Preference\n",
      "0   25                      0\n",
      "1   42                      2\n",
      "2   37                      1\n",
      "3   19                      0\n",
      "4   31                      2\n",
      "5   28                      0\n"
     ]
    },
    {
     "data": {
      "text/html": [
       "<div>\n",
       "<style scoped>\n",
       "    .dataframe tbody tr th:only-of-type {\n",
       "        vertical-align: middle;\n",
       "    }\n",
       "\n",
       "    .dataframe tbody tr th {\n",
       "        vertical-align: top;\n",
       "    }\n",
       "\n",
       "    .dataframe thead th {\n",
       "        text-align: right;\n",
       "    }\n",
       "</style>\n",
       "<table border=\"1\" class=\"dataframe\">\n",
       "  <thead>\n",
       "    <tr style=\"text-align: right;\">\n",
       "      <th></th>\n",
       "      <th>age</th>\n",
       "      <th>Soft_drink_Preference</th>\n",
       "    </tr>\n",
       "  </thead>\n",
       "  <tbody>\n",
       "    <tr>\n",
       "      <th>age</th>\n",
       "      <td>1.000000</td>\n",
       "      <td>0.833238</td>\n",
       "    </tr>\n",
       "    <tr>\n",
       "      <th>Soft_drink_Preference</th>\n",
       "      <td>0.833238</td>\n",
       "      <td>1.000000</td>\n",
       "    </tr>\n",
       "  </tbody>\n",
       "</table>\n",
       "</div>"
      ],
      "text/plain": [
       "                            age  Soft_drink_Preference\n",
       "age                    1.000000               0.833238\n",
       "Soft_drink_Preference  0.833238               1.000000"
      ]
     },
     "execution_count": 8,
     "metadata": {},
     "output_type": "execute_result"
    }
   ],
   "source": [
    "#Q5. A survey was conducted to examine the relationship between age and preference for a particular\n",
    "#brand of soft drink. The survey results are shown below:\n",
    "\n",
    "import pandas as pd\n",
    "import numpy as np\n",
    "\n",
    "age = [25,42,37,19,31,28]\n",
    "Soft_drink_Preference = ['Coke','Pepsi','Mountain dew','Coke','Pepsi','Coke']\n",
    "\n",
    "#labelling soft drink preferences so that it can help in finding correlation\n",
    "from sklearn.preprocessing import LabelEncoder\n",
    "df = pd.DataFrame({'age': age, 'Soft_drink_Preference': Soft_drink_Preference})\n",
    "encoder = LabelEncoder()\n",
    "df['Soft_drink_Preference'] = encoder.fit_transform(df['Soft_drink_Preference'])\n",
    "print(df)\n",
    "df.corr(method = 'spearman')"
   ]
  },
  {
   "cell_type": "code",
   "execution_count": null,
   "id": "07923a62-12ed-4b05-aaa6-bdfc84c3eef9",
   "metadata": {},
   "outputs": [],
   "source": [
    "import numpy as np\n",
    "import pandas as pd\n",
    "# Generate random data\n",
    "np.random.seed(42)\n",
    "sales_calls_per_day = np.random.randint(20, 50, 30)  # Number of sales calls per day\n",
    "sales_per_week = np.random.randint(5, 20, 30)  # Number of sales per week\n",
    "\n",
    "df = pd.DataFrame({'sales_calls_per_day': sales_calls_per_day, 'sales_per_week': sales_per_week})\n",
    "\n"
   ]
  }
 ],
 "metadata": {
  "kernelspec": {
   "display_name": "Python 3 (ipykernel)",
   "language": "python",
   "name": "python3"
  },
  "language_info": {
   "codemirror_mode": {
    "name": "ipython",
    "version": 3
   },
   "file_extension": ".py",
   "mimetype": "text/x-python",
   "name": "python",
   "nbconvert_exporter": "python",
   "pygments_lexer": "ipython3",
   "version": "3.10.8"
  }
 },
 "nbformat": 4,
 "nbformat_minor": 5
}
