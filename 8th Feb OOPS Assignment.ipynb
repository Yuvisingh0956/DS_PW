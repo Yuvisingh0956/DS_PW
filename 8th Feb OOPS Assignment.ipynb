{
 "cells": [
  {
   "cell_type": "code",
   "execution_count": 4,
   "id": "cb05370d",
   "metadata": {},
   "outputs": [
    {
     "name": "stdout",
     "output_type": "stream",
     "text": [
      "20\n",
      "28.259999999999998\n"
     ]
    }
   ],
   "source": [
    "#Q1. What is Abstraction in OOps? Explain with an example.\n",
    "'''\n",
    "Abstraction is a key concept in Object-Oriented Programming (OOP) that allows us to focus on essential details while \n",
    "ignoring irrelevant details. It is the process of hiding complex implementation details and providing only the necessary \n",
    "interface to the user.\n",
    "'''\n",
    "\n",
    "#Example:\n",
    "\n",
    "from abc import ABC, abstractmethod\n",
    "\n",
    "class Shape(ABC):\n",
    "    @abstractmethod\n",
    "    def area(self):\n",
    "        pass\n",
    "\n",
    "class Rectangle(Shape):\n",
    "    def __init__(self, width, height):\n",
    "        self.width = width\n",
    "        self.height = height\n",
    "        \n",
    "    def area(self):\n",
    "        return self.width * self.height\n",
    "\n",
    "class Circle(Shape):\n",
    "    def __init__(self, radius):\n",
    "        self.radius = radius\n",
    "        \n",
    "    def area(self):\n",
    "        return 3.14 * self.radius * self.radius\n",
    "\n",
    "rectangle = Rectangle(4, 5)\n",
    "circle = Circle(3)\n",
    "\n",
    "print(rectangle.area())  \n",
    "print(circle.area()) \n"
   ]
  },
  {
   "cell_type": "code",
   "execution_count": 6,
   "id": "d3255add",
   "metadata": {},
   "outputs": [
    {
     "name": "stdout",
     "output_type": "stream",
     "text": [
      "20\n",
      "28.259999999999998\n"
     ]
    },
    {
     "ename": "AttributeError",
     "evalue": "'Rectangle' object has no attribute '__width'",
     "output_type": "error",
     "traceback": [
      "\u001b[1;31m---------------------------------------------------------------------------\u001b[0m",
      "\u001b[1;31mAttributeError\u001b[0m                            Traceback (most recent call last)",
      "Input \u001b[1;32mIn [6]\u001b[0m, in \u001b[0;36m<cell line: 41>\u001b[1;34m()\u001b[0m\n\u001b[0;32m     39\u001b[0m \u001b[38;5;28mprint\u001b[39m(rectangle\u001b[38;5;241m.\u001b[39marea())  \n\u001b[0;32m     40\u001b[0m \u001b[38;5;28mprint\u001b[39m(circle\u001b[38;5;241m.\u001b[39marea())  \n\u001b[1;32m---> 41\u001b[0m \u001b[38;5;28mprint\u001b[39m(\u001b[43mrectangle\u001b[49m\u001b[38;5;241;43m.\u001b[39;49m\u001b[43m__width\u001b[49m)\n",
      "\u001b[1;31mAttributeError\u001b[0m: 'Rectangle' object has no attribute '__width'"
     ]
    }
   ],
   "source": [
    "#Q2. Differentiate between Abstraction and Encapsulation. Explain with an example.\n",
    "'''\n",
    "Abstraction is the process of hiding complex implementation details and providing only the necessary interface to the user. \n",
    "It focuses on what an object does instead of how it does it. Abstraction is achieved through the use of abstract classes, \n",
    "interfaces, and other techniques that provide a simplified interface to the user.\n",
    "\n",
    "Encapsulation, on the other hand, is the process of hiding internal details and data of an object from the outside world. \n",
    "It restricts access to an object's internal state and provides a public interface through which other objects can interact \n",
    "with it. Encapsulation is achieved through the use of access modifiers like public, private, and protected.\n",
    "'''\n",
    "\n",
    "#Example:\n",
    "\n",
    "from abc import ABC, abstractmethod\n",
    "\n",
    "class Shape(ABC):\n",
    "    @abstractmethod\n",
    "    def area(self):\n",
    "        pass\n",
    "\n",
    "class Rectangle(Shape):\n",
    "    def __init__(self, width, height):\n",
    "        self.__width = width\n",
    "        self.__height = height\n",
    "        \n",
    "    def area(self):\n",
    "        return self.__width * self.__height\n",
    "\n",
    "class Circle(Shape):\n",
    "    def __init__(self, radius):\n",
    "        self.__radius = radius\n",
    "        \n",
    "    def area(self):\n",
    "        return 3.14 * self.__radius * self.__radius\n",
    "\n",
    "rectangle = Rectangle(4, 5)\n",
    "circle = Circle(3)\n",
    "\n",
    "print(rectangle.area())  \n",
    "print(circle.area())  \n",
    "print(rectangle.__width)  \n",
    "\n",
    "#We have used area function for both Rectangle and Circle with abstratct nethod but can't access rectangle__width due to encapsulation."
   ]
  },
  {
   "cell_type": "code",
   "execution_count": null,
   "id": "d9417f87",
   "metadata": {},
   "outputs": [],
   "source": [
    "#Q3. What is abc module in python? Why is it used?\n",
    "'''\n",
    "The abc module in Python stands for \"Abstract Base Classes\". It provides a way to define abstract base classes and methods, \n",
    "which can then be used as a template for other classes to implement. An abstract class is a class that cannot be instantiated\n",
    "and is meant to be subclassed.\n",
    "\n",
    "The abc module is used to implement abstract classes and enforce abstraction in Python. By defining an abstract class and \n",
    "abstract methods, we can ensure that certain methods are implemented by subclasses and provide a common interface for a \n",
    "group of related classes.\n",
    "'''"
   ]
  },
  {
   "cell_type": "code",
   "execution_count": null,
   "id": "f7ee74bc",
   "metadata": {},
   "outputs": [],
   "source": [
    "#Q4. How can we achieve data abstraction?\n",
    "'''\n",
    "In object-oriented programming, data abstraction can be achieved using abstract classes and interfaces. \n",
    "Abstraction is the process of hiding the complexity of the implementation details and providing a simplified view of the \n",
    "functionality to the users.\n",
    "\n",
    "Here are some ways to achieve data abstraction:\n",
    "1.Abstraction using Abstract Classes\n",
    "2.Abstraction using Interfaces\n",
    "'''"
   ]
  },
  {
   "cell_type": "code",
   "execution_count": 10,
   "id": "185353dd",
   "metadata": {},
   "outputs": [
    {
     "ename": "TypeError",
     "evalue": "Can't instantiate abstract class MyAbstractClass with abstract method my_method",
     "output_type": "error",
     "traceback": [
      "\u001b[1;31m---------------------------------------------------------------------------\u001b[0m",
      "\u001b[1;31mTypeError\u001b[0m                                 Traceback (most recent call last)",
      "Input \u001b[1;32mIn [10]\u001b[0m, in \u001b[0;36m<cell line: 16>\u001b[1;34m()\u001b[0m\n\u001b[0;32m     12\u001b[0m     \u001b[38;5;129m@abstractmethod\u001b[39m\n\u001b[0;32m     13\u001b[0m     \u001b[38;5;28;01mdef\u001b[39;00m \u001b[38;5;21mmy_method\u001b[39m(\u001b[38;5;28mself\u001b[39m):\n\u001b[0;32m     14\u001b[0m         \u001b[38;5;28;01mpass\u001b[39;00m\n\u001b[1;32m---> 16\u001b[0m my_object \u001b[38;5;241m=\u001b[39m \u001b[43mMyAbstractClass\u001b[49m\u001b[43m(\u001b[49m\u001b[43m)\u001b[49m\n\u001b[0;32m     18\u001b[0m \u001b[38;5;124m\"\u001b[39m\u001b[38;5;124mIt will return TypeError\u001b[39m\u001b[38;5;124m\"\u001b[39m\n",
      "\u001b[1;31mTypeError\u001b[0m: Can't instantiate abstract class MyAbstractClass with abstract method my_method"
     ]
    }
   ],
   "source": [
    "#Can we create an instance of an abstract class? Explain your answer.\n",
    "'''\n",
    "No, we cannot create an instance of an abstract class in Python. An abstract class is a class that contains at least one \n",
    "abstract method, which is a method without any implementation. An abstract class is meant to be a base class that provides \n",
    "a common interface for a group of related classes, but it cannot be instantiated on its own.\n",
    "'''\n",
    "\n",
    "#Example:\n",
    "from abc import ABC, abstractmethod\n",
    "\n",
    "class MyAbstractClass(ABC):\n",
    "    @abstractmethod\n",
    "    def my_method(self):\n",
    "        pass\n",
    "\n",
    "my_object = MyAbstractClass()\n",
    "\n",
    "\"It will return TypeError\""
   ]
  },
  {
   "cell_type": "code",
   "execution_count": null,
   "id": "46ce8fcd",
   "metadata": {},
   "outputs": [],
   "source": []
  }
 ],
 "metadata": {
  "kernelspec": {
   "display_name": "Python 3 (ipykernel)",
   "language": "python",
   "name": "python3"
  },
  "language_info": {
   "codemirror_mode": {
    "name": "ipython",
    "version": 3
   },
   "file_extension": ".py",
   "mimetype": "text/x-python",
   "name": "python",
   "nbconvert_exporter": "python",
   "pygments_lexer": "ipython3",
   "version": "3.9.12"
  }
 },
 "nbformat": 4,
 "nbformat_minor": 5
}
