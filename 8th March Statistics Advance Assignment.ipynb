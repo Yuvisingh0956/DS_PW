{
 "cells": [
  {
   "cell_type": "code",
   "execution_count": null,
   "id": "4c89e5c3-52bf-44f7-a1e3-61c9c9bd8f84",
   "metadata": {},
   "outputs": [],
   "source": [
    "#Q1. What is the Probability density function?\n",
    "'''\n",
    "A probability density function (PDF) is a function that describes the probability of a random variable taking on a value in a specific range. \n",
    "The PDF is often represented by a graph, with the horizontal axis representing the possible values of the random variable and the vertical axis \n",
    "representing the probability of the random variable taking on that value.\n",
    "'''"
   ]
  },
  {
   "cell_type": "code",
   "execution_count": null,
   "id": "7ee74593-c0a1-42a3-bedf-c37517894535",
   "metadata": {},
   "outputs": [],
   "source": [
    "#Q2. What are the types of Probability distribution?\n",
    "'''\n",
    "1. Normal / Gaussian distribution \n",
    "2. Bernoulli distribution\n",
    "3. Uniform distribution\n",
    "4. Poisson distribution\n",
    "5. Log Normal distribution\n",
    "6. Binomial distribution\n",
    "'''"
   ]
  },
  {
   "cell_type": "code",
   "execution_count": 1,
   "id": "9b0ad478-cc8b-45ca-87f4-f49b8de5cb69",
   "metadata": {},
   "outputs": [],
   "source": [
    "#Q3. Write a Python function to calculate the probability density function of a normal distribution with given mean and standard deviation at a given point.\n",
    "import numpy as np\n",
    "def normal_pdf(x, mean, std):\n",
    "  \"\"\"\n",
    "  Args:\n",
    "    x: The point at which to calculate the probability density.\n",
    "    mean: The mean of the normal distribution.\n",
    "    std: The standard deviation of the normal distribution.\n",
    "\n",
    "  Returns:\n",
    "    The probability density at the given point.\n",
    "  \"\"\"\n",
    "\n",
    "  # Calculate the exponent.\n",
    "  exponent = (x - mean) ** 2 / (2 * std ** 2)\n",
    "\n",
    "  # Calculate the probability density.\n",
    "  pdf = (1 / (std * np.sqrt(2 * np.pi))) * np.exp(-exponent)\n",
    "\n",
    "  return pdf\n"
   ]
  },
  {
   "cell_type": "code",
   "execution_count": null,
   "id": "757d73cc-5641-42a8-a262-e01bc21b8223",
   "metadata": {},
   "outputs": [],
   "source": [
    "#Q4. What are the properties of Binomial distribution? Give two examples of events where binomial distribution can be applied.\n",
    "'''\n",
    "The properties of the binomial distribution are:\n",
    "\n",
    "1. The number of trials is fixed.\n",
    "2. The probability of success remains constant for each trial.\n",
    "3. The trials are independent, meaning that the outcome of one trial does not affect the outcome of another trial.\n",
    "\n",
    "The binomial distribution can be applied to a variety of events, such as:\n",
    "1. Tossing a coin\n",
    "2. Rolling a die\n",
    "'''"
   ]
  },
  {
   "cell_type": "code",
   "execution_count": 7,
   "id": "20e558d8-127d-400f-9930-5bcfd5142c9a",
   "metadata": {},
   "outputs": [
    {
     "data": {
      "image/png": "[encoded data removed]",
      "text/plain": [
       "<Figure size 640x480 with 1 Axes>"
      ]
     },
     "metadata": {},
     "output_type": "display_data"
    }
   ],
   "source": [
    "#Q5. Generate a random sample of size 1000 from a binomial distribution with probability of success 0.4 and plot a histogram of the results using matplotlib.\n",
    "import numpy as np\n",
    "import matplotlib.pyplot as plt\n",
    "# Generate a random sample of size 1000 from a binomial distribution with probability of success 0.4.\n",
    "samples = np.random.binomial(1000, 0.4,1000)\n",
    "\n",
    "# Plot a histogram of the results.\n",
    "plt.hist(samples, bins=10)\n",
    "plt.xlabel(\"Number of successes\")\n",
    "plt.ylabel(\"Frequency\")\n",
    "plt.title(\"Binomial distribution with probability of success 0.4\")\n",
    "plt.show()"
   ]
  },
  {
   "cell_type": "code",
   "execution_count": 5,
   "id": "6e1a1555-6848-4049-ae50-df6c2cb33c74",
   "metadata": {},
   "outputs": [],
   "source": [
    "#Q6. Write a Python function to calculate the cumulative distribution function of a Poisson distribution with given mean at a given point.\n",
    "def poisson_cdf(k, mean):\n",
    "    \"\"\"\n",
    "    Args:\n",
    "    k: The point at which to calculate the cumulative distribution function.\n",
    "    mean: The mean of the Poisson distribution.\n",
    "\n",
    "    Returns:\n",
    "    The cumulative distribution function at the given point.\n",
    "    \"\"\"\n",
    "\n",
    "    # Calculate the exponent.\n",
    "    exponent = -mean * (k - mean)\n",
    "\n",
    "    # Calculate the cumulative distribution function.\n",
    "    cdf = sum([(mean ** i) / (math.factorial(i) * np.exp(mean)) for i in range(k + 1)])\n",
    "\n",
    "    return cdf\n"
   ]
  },
  {
   "cell_type": "code",
   "execution_count": null,
   "id": "b2f9991a-790c-46ee-a2ab-9042f9c8bbe9",
   "metadata": {},
   "outputs": [],
   "source": [
    "#Q7. How Binomial distribution different from Poisson distribution?\n",
    "'''\n",
    "The binomial distribution has two parameters: the number of trials (n) and the probability of success (p). \n",
    "The Poisson distribution has only one parameter: the mean (λ).\n",
    "\n",
    "The binomial distribution is used to model situations where the probability of success remains constant for each trial. \n",
    "The Poisson distribution is used to model situations where the probability of success is very small for each trial, but the number of trials is very large.\n",
    "\n",
    "The binomial distribution is more versatile than the Poisson distribution, but it is also more complex. \n",
    "The Poisson distribution is simpler to use, but it is less accurate in some situations.\n",
    "'''"
   ]
  },
  {
   "cell_type": "code",
   "execution_count": 11,
   "id": "ce0a0645-93ea-4bc0-8e25-e49234a96b9d",
   "metadata": {},
   "outputs": [
    {
     "name": "stdout",
     "output_type": "stream",
     "text": [
      "Sample mean:  5.009\n",
      "Sample vaiance:  4.882919\n"
     ]
    }
   ],
   "source": [
    "#Q8. Generate a random sample of size 1000 from a Poisson distribution with mean 5 and calculate the sample mean and variance.\n",
    "import numpy as np\n",
    "\n",
    "samples = np.random.poisson(5,1000)\n",
    "\n",
    "print(\"Sample mean: \", np.mean(samples))\n",
    "print(\"Sample vaiance: \", np.var(samples))"
   ]
  },
  {
   "cell_type": "code",
   "execution_count": null,
   "id": "09ed331a-ea08-4a31-94fd-5c90f88c55af",
   "metadata": {},
   "outputs": [],
   "source": [
    "#Q9. How mean and variance are related in Binomial distribution and Poisson distribution?\n",
    "'''\n",
    "In both the Binomial and Poisson distributions, the mean and variance are equal. This is because both distributions are characterized by a constant probability of success. \n",
    "In the Binomial distribution, the mean is equal to the number of trials multiplied by the probability of success, while the variance is equal to the number of trials multiplied \n",
    "by the probability of success multiplied by the probability of failure. In the Poisson distribution, the mean is equal to the rate parameter, while the variance is also equal to the rate parameter.\n",
    "'''"
   ]
  },
  {
   "cell_type": "code",
   "execution_count": null,
   "id": "38fa71d8-fb93-4baf-9b5f-4d6fb7e40f66",
   "metadata": {},
   "outputs": [],
   "source": [
    "#Q10. In normal distribution with respect to mean position, where does the least frequent data appear?\n",
    "'''\n",
    "The least frequent data in a normal distribution appears at the tails of the distribution, which are the areas farthest from the mean. \n",
    "The mean is the point at which the data is most concentrated, so the tails of the distribution have the least data.\n",
    "'''"
   ]
  }
 ],
 "metadata": {
  "kernelspec": {
   "display_name": "Python 3 (ipykernel)",
   "language": "python",
   "name": "python3"
  },
  "language_info": {
   "codemirror_mode": {
    "name": "ipython",
    "version": 3
   },
   "file_extension": ".py",
   "mimetype": "text/x-python",
   "name": "python",
   "nbconvert_exporter": "python",
   "pygments_lexer": "ipython3",
   "version": "3.10.8"
  }
 },
 "nbformat": 4,
 "nbformat_minor": 5
}
