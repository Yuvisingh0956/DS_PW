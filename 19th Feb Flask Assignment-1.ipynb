{
 "cells": [
  {
   "cell_type": "code",
   "execution_count": null,
   "id": "98ffccc7-b5c5-4396-8c7a-fa1348b4e9fc",
   "metadata": {},
   "outputs": [],
   "source": [
    "#Q1. What is Flask Framework? What are the advantages of Flask Framework?\n",
    "'''\n",
    "Flask is a micro web framework written in Python. It is designed to be lightweight and simple, with minimal dependencies, \n",
    "making it easy to learn and use for building web applications.\n",
    "\n",
    "Here are some advantages of using Flask:\n",
    "\n",
    "1. Lightweight \n",
    "2. Easy to learn:\n",
    "3. Flexible \n",
    "4. Modular\n",
    "5. Extensible\n",
    "6. Large community\n",
    "'''"
   ]
  },
  {
   "cell_type": "code",
   "execution_count": 2,
   "id": "5f2416a2-21ca-49d9-b15f-077c7a81aa1c",
   "metadata": {},
   "outputs": [
    {
     "name": "stdout",
     "output_type": "stream",
     "text": [
      "Collecting flask\n",
      "  Downloading Flask-2.3.2-py3-none-any.whl (96 kB)\n",
      "\u001b[2K     \u001b[90m━━━━━━━━━━━━━━━━━━━━━━━━━━━━━━━━━━━━━━━━\u001b[0m \u001b[32m96.9/96.9 kB\u001b[0m \u001b[31m5.3 MB/s\u001b[0m eta \u001b[36m0:00:00\u001b[0m\n",
      "\u001b[?25hCollecting itsdangerous>=2.1.2\n",
      "  Downloading itsdangerous-2.1.2-py3-none-any.whl (15 kB)\n",
      "Requirement already satisfied: Jinja2>=3.1.2 in /opt/conda/lib/python3.10/site-packages (from flask) (3.1.2)\n",
      "Collecting blinker>=1.6.2\n",
      "  Downloading blinker-1.6.2-py3-none-any.whl (13 kB)\n",
      "Requirement already satisfied: click>=8.1.3 in /opt/conda/lib/python3.10/site-packages (from flask) (8.1.3)\n",
      "Collecting Werkzeug>=2.3.3\n",
      "  Downloading Werkzeug-2.3.3-py3-none-any.whl (242 kB)\n",
      "\u001b[2K     \u001b[90m━━━━━━━━━━━━━━━━━━━━━━━━━━━━━━━━━━━━━━\u001b[0m \u001b[32m242.3/242.3 kB\u001b[0m \u001b[31m32.1 MB/s\u001b[0m eta \u001b[36m0:00:00\u001b[0m\n",
      "\u001b[?25hRequirement already satisfied: MarkupSafe>=2.0 in /opt/conda/lib/python3.10/site-packages (from Jinja2>=3.1.2->flask) (2.1.1)\n",
      "Installing collected packages: Werkzeug, itsdangerous, blinker, flask\n",
      "  Attempting uninstall: blinker\n",
      "    Found existing installation: blinker 1.5\n",
      "    Uninstalling blinker-1.5:\n",
      "      Successfully uninstalled blinker-1.5\n",
      "Successfully installed Werkzeug-2.3.3 blinker-1.6.2 flask-2.3.2 itsdangerous-2.1.2\n"
     ]
    }
   ],
   "source": [
    "!pip install flask"
   ]
  },
  {
   "cell_type": "code",
   "execution_count": 3,
   "id": "7a682533-53e0-47e3-bdca-2bcbc8d4fe25",
   "metadata": {},
   "outputs": [
    {
     "name": "stdout",
     "output_type": "stream",
     "text": [
      " * Serving Flask app '__main__'\n",
      " * Debug mode: off\n"
     ]
    },
    {
     "name": "stderr",
     "output_type": "stream",
     "text": [
      "WARNING: This is a development server. Do not use it in a production deployment. Use a production WSGI server instead.\n",
      " * Running on all addresses (0.0.0.0)\n",
      " * Running on http://127.0.0.1:5000\n",
      " * Running on http://172.18.0.16:5000\n",
      "Press CTRL+C to quit\n",
      "172.18.0.2 - - [08/May/2023 04:19:04] \"GET / HTTP/1.1\" 200 -\n",
      "172.18.0.2 - - [08/May/2023 04:19:05] \"GET /favicon.ico HTTP/1.1\" 404 -\n"
     ]
    }
   ],
   "source": [
    "#Q2. Create a simple Flask application to display ‘Hello World!!’. Attach the screenshot of the output in Jupyter Notebook.\n",
    "\n",
    "from flask import Flask\n",
    "app = Flask(__name__)\n",
    "\n",
    "@app.route(\"/\")\n",
    "def hello_world():\n",
    "    return \"<h1>Hello World!!</h1>\"\n",
    "\n",
    "if __name__ == \"__main__\":\n",
    "    app.run(host = \"0.0.0.0\")\n"
   ]
  },
  {
   "cell_type": "markdown",
   "id": "06feb9cd-9e51-476a-a676-d8e367787228",
   "metadata": {},
   "source": [
    "![hello world](hello world.jpg)"
   ]
  },
  {
   "cell_type": "code",
   "execution_count": null,
   "id": "32f9da43-ee28-4b45-b903-d41dee5305bd",
   "metadata": {},
   "outputs": [],
   "source": [
    "#Q3. What is App routing in Flask? Why do we use app routes?\n",
    "'''\n",
    "In Flask, app routing is the process of associating a URL (Uniform Resource Locator) with a function that generates the \n",
    "content for that URL. In other words, it's a way to map URLs to specific functions in your Flask application.\n",
    "\n",
    "App routes are essential in Flask because they allow you to define the structure and behavior of your web application, \n",
    "making it easier to develop and maintain your code. They also provide a clean and flexible way to handle HTTP requests and responses, \n",
    "which is critical for building scalable and robust web applications.\n",
    "'''"
   ]
  },
  {
   "cell_type": "code",
   "execution_count": null,
   "id": "55dd2a44-3659-4b5a-b71d-264f57d58ffa",
   "metadata": {},
   "outputs": [
    {
     "name": "stdout",
     "output_type": "stream",
     "text": [
      " * Serving Flask app '__main__'\n",
      " * Debug mode: off\n"
     ]
    },
    {
     "name": "stderr",
     "output_type": "stream",
     "text": [
      "WARNING: This is a development server. Do not use it in a production deployment. Use a production WSGI server instead.\n",
      " * Running on all addresses (0.0.0.0)\n",
      " * Running on http://127.0.0.1:5000\n",
      " * Running on http://172.18.0.16:5000\n",
      "Press CTRL+C to quit\n",
      "172.18.0.2 - - [08/May/2023 04:43:14] \"GET / HTTP/1.1\" 200 -\n"
     ]
    }
   ],
   "source": [
    "#Q4. Create a “/welcome” route to display the welcome message “Welcome to ABC Corporation” and a “/” route to show the following details:\n",
    "# Company Name: ABC Corporation\n",
    "# Location: India\n",
    "# Contact Detail: 999-999-9999\n",
    "\n",
    "#Attach the screenshot of the output in Jupyter Notebook.\n",
    "\n",
    "from flask import Flask\n",
    "app = Flask(__name__)\n",
    "\n",
    "@app.route(\"/welcome\")\n",
    "def welcome():\n",
    "    return \"Welcome to ABC Corporation\"\n",
    "\n",
    "@app.route(\"/\")\n",
    "def deatils():\n",
    "    return \"Comapny Name: ABC Corporation<br>Location: India<br>Contact Deatil: 999-999-9999\"\n",
    "\n",
    "if __name__ == \"__main__\":\n",
    "    app.run(host = \"0.0.0.0\")"
   ]
  },
  {
   "cell_type": "markdown",
   "id": "4e5a234c-3539-406e-a62b-1ea962594e77",
   "metadata": {},
   "source": [
    "![Welcome](Welcome.JPG)"
   ]
  },
  {
   "cell_type": "markdown",
   "id": "a7f470c8-b712-48c2-8be4-9684f763b59f",
   "metadata": {},
   "source": [
    "![Deatils](Details.jpg)"
   ]
  },
  {
   "cell_type": "code",
   "execution_count": null,
   "id": "9a561763-bf4d-4172-a246-c0d2944af76b",
   "metadata": {},
   "outputs": [
    {
     "name": "stdout",
     "output_type": "stream",
     "text": [
      "/hello/Yuvraj\n",
      " * Serving Flask app '__main__'\n",
      " * Debug mode: off\n"
     ]
    },
    {
     "name": "stderr",
     "output_type": "stream",
     "text": [
      "WARNING: This is a development server. Do not use it in a production deployment. Use a production WSGI server instead.\n",
      " * Running on all addresses (0.0.0.0)\n",
      " * Running on http://127.0.0.1:5000\n",
      " * Running on http://172.18.0.16:5000\n",
      "Press CTRL+C to quit\n"
     ]
    }
   ],
   "source": [
    "#Q5. What function is used in Flask for URL Building? Write a Python code to demonstrate the working of the url_for() function.\n",
    "\n",
    "'''\n",
    "In Flask, the url_for() function is used for URL building. It generates a URL for the given endpoint with the values of \n",
    "any specified parameters. \n",
    "'''\n",
    "\n",
    "from flask import Flask, url_for\n",
    "\n",
    "app = Flask(__name__)\n",
    "\n",
    "@app.route('/hello/<name>')\n",
    "def hello(name):\n",
    "    return f'Hello, {name}!'\n",
    "\n",
    "with app.test_request_context():\n",
    "    print(url_for('hello', name='Yuvraj'))\n",
    "\n",
    "if __name__ == \"__main__\":\n",
    "    app.run(host = \"0.0.0.0\")"
   ]
  },
  {
   "cell_type": "markdown",
   "id": "36e7d6f3-981b-436c-b37a-10efefbca36b",
   "metadata": {},
   "source": [
    "![hello](Hello.jpg)"
   ]
  },
  {
   "cell_type": "code",
   "execution_count": null,
   "id": "0327d5d1-6e9f-4d26-9b8e-003220da6b22",
   "metadata": {},
   "outputs": [],
   "source": []
  }
 ],
 "metadata": {
  "kernelspec": {
   "display_name": "Python 3 (ipykernel)",
   "language": "python",
   "name": "python3"
  },
  "language_info": {
   "codemirror_mode": {
    "name": "ipython",
    "version": 3
   },
   "file_extension": ".py",
   "mimetype": "text/x-python",
   "name": "python",
   "nbconvert_exporter": "python",
   "pygments_lexer": "ipython3",
   "version": "3.10.8"
  }
 },
 "nbformat": 4,
 "nbformat_minor": 5
}
