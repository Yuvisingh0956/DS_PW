{
 "cells": [
  {
   "cell_type": "code",
   "execution_count": null,
   "id": "bc4902b2-89f9-4221-86b3-35f359204468",
   "metadata": {},
   "outputs": [],
   "source": [
    "#Q1. Explain GET and POST methods.\n",
    "'''\n",
    "The GET method is used to retrieve data from a server. When a user types a URL in the address bar of their web browser, \n",
    "it sends a GET request to the server to retrieve the web page specified in the URL. \n",
    "\n",
    "The POST method is used to submit data to a server. This method is often used for submitting form data, such as user \n",
    "registration or login information, to a server. The POST method can send large amounts of data, including files, \n",
    "and the data is sent in the request body, which is not visible in the address bar.\n",
    "'''"
   ]
  },
  {
   "cell_type": "code",
   "execution_count": null,
   "id": "91b21c78-27b9-4f7e-b63c-a4b4d35afcf4",
   "metadata": {},
   "outputs": [],
   "source": [
    "#Q2. Why is request used in Flask?\n",
    "'''\n",
    "In Flask, requests are used to handle incoming HTTP requests from clients, such as web browsers or other applications. \n",
    "A request in Flask represents an HTTP request sent by a client to the Flask application, and it contains information \n",
    "about the request such as the HTTP method (GET, POST, etc.), URL, headers, and form data.\n",
    "'''"
   ]
  },
  {
   "cell_type": "code",
   "execution_count": null,
   "id": "1ec1815a-733b-4f13-89cb-8f5280ac2beb",
   "metadata": {},
   "outputs": [],
   "source": [
    "#Q3. Why is redirect() used in Flask?\n",
    "'''\n",
    "In Flask, redirect() is used to redirect the client's request to a different URL. It is commonly used when a user submits a form or\n",
    "performs some action on a web page that requires the server to perform some processing and then redirect the user to a different page.\n",
    "'''"
   ]
  },
  {
   "cell_type": "code",
   "execution_count": null,
   "id": "9a49d8f9-b216-4a70-b75b-918d64a06bb8",
   "metadata": {},
   "outputs": [],
   "source": [
    "#Q4. What are templates in Flask? Why is the render_template() function used?\n",
    "'''\n",
    "In Flask, templates are used to generate dynamic HTML pages that can be returned to the client in response to an HTTP request. \n",
    "A template is a text file that contains placeholders for dynamic content that will be replaced with actual values when the template is rendered.\n",
    "\n",
    "The render_template() function is used to render a Jinja2 template and return the resulting HTML to the client, \n",
    "along with any variables that should be passed to the template for rendering.\n",
    "'''"
   ]
  },
  {
   "cell_type": "markdown",
   "id": "d65abe74-30fb-4459-8825-696ffc3ebf85",
   "metadata": {},
   "source": [
    "Q5. Create a simple API. Use Postman to test it. Attach the screenshot of the output in the Jupyter Notebook.\n",
    "![postman](postman.jpeg)"
   ]
  },
  {
   "cell_type": "markdown",
   "id": "e5552596-8df9-44a2-a1f5-4e0775860e7b",
   "metadata": {},
   "source": []
  }
 ],
 "metadata": {
  "kernelspec": {
   "display_name": "Python 3 (ipykernel)",
   "language": "python",
   "name": "python3"
  },
  "language_info": {
   "codemirror_mode": {
    "name": "ipython",
    "version": 3
   },
   "file_extension": ".py",
   "mimetype": "text/x-python",
   "name": "python",
   "nbconvert_exporter": "python",
   "pygments_lexer": "ipython3",
   "version": "3.10.8"
  }
 },
 "nbformat": 4,
 "nbformat_minor": 5
}
