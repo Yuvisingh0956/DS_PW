{
 "cells": [
  {
   "cell_type": "markdown",
   "id": "3df24a16-599b-4730-b1e1-88fd3ffef43c",
   "metadata": {},
   "source": [
    "## Q1."
   ]
  },
  {
   "cell_type": "code",
   "execution_count": 3,
   "id": "36cf986e-2f95-44a6-864e-912870714f75",
   "metadata": {},
   "outputs": [
    {
     "name": "stdout",
     "output_type": "stream",
     "text": [
      "Accuracy on the test dataset: 0.8360655737704918\n"
     ]
    }
   ],
   "source": [
    "# Import necessary libraries\n",
    "import pandas as pd\n",
    "from sklearn.model_selection import train_test_split\n",
    "from sklearn.compose import ColumnTransformer\n",
    "from sklearn.pipeline import Pipeline\n",
    "from sklearn.ensemble import RandomForestClassifier\n",
    "from sklearn.impute import SimpleImputer\n",
    "from sklearn.preprocessing import StandardScaler, OneHotEncoder\n",
    "from sklearn.feature_selection import SelectFromModel\n",
    "from sklearn.metrics import accuracy_score\n",
    "\n",
    "df = pd.read_csv('dataset.csv')\n",
    "# X is the feature matrix, y is the target variable\n",
    "X = df.drop(\"target\", axis=1)\n",
    "y = df[\"target\"]\n",
    "\n",
    "# Step 1: Automated feature selection\n",
    "feature_selector = SelectFromModel(RandomForestClassifier(n_estimators=100, random_state=42))\n",
    "X_selected = feature_selector.fit_transform(X, y)\n",
    "\n",
    "# Step 2: Numerical pipeline\n",
    "numerical_pipeline = Pipeline([\n",
    "    ('imputer', SimpleImputer(strategy='mean')),\n",
    "    ('scaler', StandardScaler())\n",
    "])\n",
    "\n",
    "# Step 3: Categorical pipeline\n",
    "categorical_pipeline = Pipeline([\n",
    "    ('imputer', SimpleImputer(strategy='most_frequent')),\n",
    "    ('encoder', OneHotEncoder(handle_unknown='ignore'))\n",
    "])\n",
    "\n",
    "# Step 4: Combine numerical and categorical pipelines\n",
    "preprocessor = ColumnTransformer(\n",
    "    transformers=[\n",
    "        ('num', numerical_pipeline, X.columns[X.dtypes != 'object']),\n",
    "        ('cat', categorical_pipeline, X.columns[X.dtypes == 'object'])\n",
    "    ])\n",
    "\n",
    "# Step 5: Final pipeline with RandomForestClassifier\n",
    "pipeline = Pipeline([\n",
    "    ('preprocessor', preprocessor),\n",
    "    ('classifier', RandomForestClassifier(n_estimators=100, random_state=42))\n",
    "])\n",
    "\n",
    "# Split the data into training and test sets\n",
    "X_train, X_test, y_train, y_test = train_test_split(X, y, test_size=0.2, random_state=42)\n",
    "\n",
    "# Step 6: Train the model\n",
    "pipeline.fit(X_train, y_train)\n",
    "\n",
    "# Step 7: Evaluate the accuracy on the test dataset\n",
    "y_pred = pipeline.predict(X_test)\n",
    "accuracy = accuracy_score(y_test, y_pred)\n",
    "print(f'Accuracy on the test dataset: {accuracy}')"
   ]
  },
  {
   "cell_type": "markdown",
   "id": "4eb81c66-51a7-4363-8bcb-4440ddcff59d",
   "metadata": {},
   "source": [
    "## Interpretation and suggestions for improvements:\n",
    "- Feature selection is important for model interpretability and reducing overfitting. You can experiment with different feature selection methods and hyperparameters.\n",
    "- Adjust the hyperparameters of the RandomForestClassifier for better performance.\n",
    "- Evaluate other imputation strategies and scaling methods.\n",
    "- Consider hyperparameter tuning for the entire pipeline using techniques like GridSearchCV.\n",
    "- Monitor other metrics (precision, recall, F1-score) for a more comprehensive evaluation.\n",
    "- Experiment with different models and ensemble methods for comparison.\n",
    "- Consider handling imbalanced classes if applicable to your dataset."
   ]
  },
  {
   "cell_type": "markdown",
   "id": "fa5f98ec-5d9e-4261-a31a-64d707e41a49",
   "metadata": {},
   "source": [
    "## Q2."
   ]
  },
  {
   "cell_type": "code",
   "execution_count": 5,
   "id": "331dc7f1-d2ec-4771-bb1e-77c3c748aa55",
   "metadata": {},
   "outputs": [
    {
     "name": "stdout",
     "output_type": "stream",
     "text": [
      "Accuracy on the test dataset: 1.0\n"
     ]
    }
   ],
   "source": [
    "# Import necessary libraries\n",
    "import pandas as pd\n",
    "from sklearn.model_selection import train_test_split\n",
    "from sklearn.ensemble import RandomForestClassifier, VotingClassifier\n",
    "from sklearn.linear_model import LogisticRegression\n",
    "from sklearn.metrics import accuracy_score\n",
    "from sklearn.pipeline import Pipeline\n",
    "from sklearn.impute import SimpleImputer\n",
    "from sklearn.preprocessing import StandardScaler, OneHotEncoder\n",
    "from sklearn.compose import ColumnTransformer\n",
    "from sklearn.datasets import load_iris\n",
    "\n",
    "# Load the Iris dataset\n",
    "iris = load_iris()\n",
    "X = pd.DataFrame(iris.data, columns=iris.feature_names)\n",
    "y = pd.Series(iris.target, name='target')\n",
    "\n",
    "# Step 1: Separate numerical and categorical features\n",
    "numerical_features = X.columns\n",
    "categorical_features = []\n",
    "\n",
    "# Step 2: Numerical pipeline\n",
    "numerical_pipeline = Pipeline([\n",
    "    ('imputer', SimpleImputer(strategy='mean')),\n",
    "    ('scaler', StandardScaler())\n",
    "])\n",
    "\n",
    "# Step 3: Categorical pipeline (not applicable for Iris dataset)\n",
    "\n",
    "# Step 4: Combine numerical and categorical pipelines\n",
    "preprocessor = ColumnTransformer(\n",
    "    transformers=[\n",
    "        ('num', numerical_pipeline, numerical_features),\n",
    "        ('cat', 'passthrough', categorical_features)\n",
    "    ])\n",
    "\n",
    "# Step 5: Build the ensemble pipeline\n",
    "ensemble_pipeline = Pipeline([\n",
    "    ('preprocessor', preprocessor),\n",
    "    ('classifier', VotingClassifier(estimators=[\n",
    "        ('rf', RandomForestClassifier(n_estimators=100, random_state=42)),\n",
    "        ('lr', LogisticRegression(random_state=42))\n",
    "    ], voting='hard'))\n",
    "])\n",
    "\n",
    "# Step 6: Split the data into training and test sets\n",
    "X_train, X_test, y_train, y_test = train_test_split(X, y, test_size=0.2, random_state=42)\n",
    "\n",
    "# Step 7: Train the pipeline\n",
    "ensemble_pipeline.fit(X_train, y_train)\n",
    "\n",
    "# Step 8: Evaluate the accuracy on the test dataset\n",
    "y_pred = ensemble_pipeline.predict(X_test)\n",
    "accuracy = accuracy_score(y_test, y_pred)\n",
    "print(f'Accuracy on the test dataset: {accuracy}')"
   ]
  }
 ],
 "metadata": {
  "kernelspec": {
   "display_name": "Python 3 (ipykernel)",
   "language": "python",
   "name": "python3"
  },
  "language_info": {
   "codemirror_mode": {
    "name": "ipython",
    "version": 3
   },
   "file_extension": ".py",
   "mimetype": "text/x-python",
   "name": "python",
   "nbconvert_exporter": "python",
   "pygments_lexer": "ipython3",
   "version": "3.10.8"
  }
 },
 "nbformat": 4,
 "nbformat_minor": 5
}
