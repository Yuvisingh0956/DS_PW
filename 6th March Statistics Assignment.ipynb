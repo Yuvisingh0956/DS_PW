{
 "cells": [
  {
   "cell_type": "code",
   "execution_count": null,
   "id": "0d97b5f1-791d-4bff-8577-5e56955b9645",
   "metadata": {},
   "outputs": [],
   "source": [
    "#Q1. What is Statistics?\n",
    "\"Statistics is the science of collecting, organizing and analyzing data.\""
   ]
  },
  {
   "cell_type": "code",
   "execution_count": null,
   "id": "87dbabae-d248-480a-88aa-40aafe197742",
   "metadata": {},
   "outputs": [],
   "source": [
    "#Q2. Define the different types of statistics and give an example of when each type might be used.\n",
    "'''\n",
    "There are two types of statistics:\n",
    "1. Descriptive statistics\n",
    "2. Inferential statistics\n",
    "\n",
    "Descriptive statistics: It consists of organizing and summarizing data. \n",
    "Example of descriptive statistics is: The average age of students in a class.\n",
    "\n",
    "Inferential statistics: It consists of using data you have measured to form conclusion.\n",
    "Example of inferential statistics is: The actual height of students in a class in comparision to the expected value.\n",
    "'''"
   ]
  },
  {
   "cell_type": "code",
   "execution_count": null,
   "id": "e54b5f20-88ed-4c74-9233-df4bde91b50e",
   "metadata": {},
   "outputs": [],
   "source": [
    "#Q3. What are the different types of data and how do they differ from each other? Provide an example of each type of data.\n",
    "'''\n",
    "There are two types of data:\n",
    "1. Quantative data\n",
    "2. Qualitative data\n",
    "\n",
    "Quantative data: It is basically numerical data in which we can perform basic mathematical operations. It consists of discrete and\n",
    "continuous data. Example: Height of students in a class.\n",
    "\n",
    "Qualitative data: It is basically categorical data in which we can't perform basic mathematical operations. It consists of nominal and\n",
    "ordinal data. Example: Customer rating among good, bad, best.\n",
    "'''"
   ]
  },
  {
   "cell_type": "code",
   "execution_count": null,
   "id": "726e88d5-d4a4-47d3-bcb1-f0c9362a60bb",
   "metadata": {},
   "outputs": [],
   "source": [
    "#Q4. Categorise the following datasets with respect to quantitative and qualitative data types:\n",
    "# (i) Grading in exam: A+, A, B+, B, C+, C, D, E\n",
    "# (ii) Colour of mangoes: yellow, green, orange, red\n",
    "# (iii) Height data of a class: [178.9, 179, 179.5, 176, 177.2, 178.3, 175.8,...]\n",
    "# (iv) Number of mangoes exported by a farm: [500, 600, 478, 672, ...]\n",
    "'''\n",
    "(i) Qualitative data\n",
    "(ii) Qualitative data\n",
    "(iii) Quantitative data\n",
    "(iv) Quantitative data\n",
    "'''"
   ]
  },
  {
   "cell_type": "code",
   "execution_count": null,
   "id": "ae88c18f-08b0-4939-9e1d-91267a5acdfd",
   "metadata": {},
   "outputs": [],
   "source": [
    "#Q5. Explain the concept of levels of measurement and give an example of a variable for each level.\n",
    "'''\n",
    "Sure. Here are the four levels of measurement:\n",
    "\n",
    "1. Nominal data: It is the most basic level of measurement. It is used to classify data into categories that have no inherent order. \n",
    "For example, the color of a car can be categorized as red, blue, green, etc.\n",
    "\n",
    "2. Ordinal data: It is a level of measurement that allows you to rank data in order, but the difference between ranks is not necessarily equal. \n",
    "For example, a survey question that asks respondents to rate their satisfaction with a product on a scale of 1 to 5 has ordinal data. \n",
    "The difference between a rating of 1 and a rating of 2 is not necessarily the same as the difference between a rating of 4 and a rating of 5.\n",
    "\n",
    "3. Interval data: It is a level of measurement that allows you to rank data in order and the difference between ranks is equal. \n",
    "However, interval data does not have a true zero point. \n",
    "For example, temperature is measured in degrees Celsius or Fahrenheit. The difference between 10 degrees Celsius and 20 degrees Celsius is the \n",
    "same as the difference between 20 degrees Celsius and 30 degrees Celsius. However, there is no such thing as a temperature of 0 degrees Celsius.\n",
    "\n",
    "4.Ratio data: It is the highest level of measurement. It is similar to interval data, but it does have a true zero point. \n",
    "For example, weight is measured in kilograms or pounds. The difference between 10 kilograms and 20 kilograms is the same as the difference between 20 kilograms and 30 kilograms. \n",
    "There is also such a thing as a weight of 0 kilograms.\n",
    "'''"
   ]
  },
  {
   "cell_type": "code",
   "execution_count": null,
   "id": "e3b14148-6cf5-4c78-b4a8-9784f16d7f1b",
   "metadata": {},
   "outputs": [],
   "source": [
    "#Q6. Why is it important to understand the level of measurement when analyzing data? Provide an example to illustrate your answer.\n",
    "'''\n",
    "It is important to understand the level of measurement when analyzing data because the level of measurement determines the type of statistical analysis that can be conducted.\n",
    "\n",
    "For example, nominal data can only be used for descriptive statistics, such as counting the number of observations in each category. \n",
    "Ordinal data can be used for descriptive statistics and for some inferential statistics, such as the Mann-Whitney U test. \n",
    "Interval data can be used for descriptive statistics, inferential statistics, and regression analysis. \n",
    "Ratio data can be used for all of the above, as well as for correlation analysis.\n",
    "'''"
   ]
  },
  {
   "cell_type": "code",
   "execution_count": null,
   "id": "6eab7caa-3ace-4b47-900a-4cc98274a314",
   "metadata": {},
   "outputs": [],
   "source": [
    "#Q7. How nominal data type is different from ordinal data type.\n",
    "'''\n",
    "In nominal data type order can't be defined but in ordinal data type order is always there.\n",
    "For example: The names of different students can't be given a prefernce order which is a nominal data while in ordinal data such as \n",
    "customer rating among bad, good, best can be ordered as a logical order is there.\n",
    "'''"
   ]
  },
  {
   "cell_type": "code",
   "execution_count": null,
   "id": "cc01b05a-829d-44db-8ba1-c90efc08927e",
   "metadata": {},
   "outputs": [],
   "source": [
    "#Q8. Which type of plot can be used to display data in terms of range?\n",
    "'''\n",
    "A box plot is a type of chart that shows the distribution of data in terms of its minimum value, first quartile, median, third quartile, and maximum value.\n",
    "It is a useful way to compare the distribution of data from different groups.\n",
    "'''"
   ]
  },
  {
   "cell_type": "code",
   "execution_count": null,
   "id": "878a4ea4-d43d-47e3-9871-8114d25294d3",
   "metadata": {},
   "outputs": [],
   "source": [
    "#Q9. Describe the difference between descriptive and inferential statistics. Give an example of each type of statistics and explain how they are used.\n",
    "'''\n",
    "Descriptive statistics are used to describe the characteristics of a sample or population. \n",
    "Inferential statistics are used to make inferences about a population based on data from a sample.\n",
    "\n",
    "Descriptive statistics can be used to summarize data, such as finding the mean, median, or mode. \n",
    "They can also be used to create graphs and charts to visualize the data. \n",
    "For example, you could use descriptive statistics to summarize the results of a survey or to create a bar chart to show the distribution of ages in a population.\n",
    "\n",
    "Inferential statistics can be used to test hypotheses, such as whether there is a difference between the means of two groups. \n",
    "They can also be used to estimate the probability of an event occurring. \n",
    "For example, you could use inferential statistics to test whether there is a difference in the effectiveness of two treatments or to estimate the probability of a customer buying a product.\n",
    "'''"
   ]
  },
  {
   "cell_type": "code",
   "execution_count": null,
   "id": "d8bd8539-ea37-43b2-b033-a2fe07e7ab06",
   "metadata": {},
   "outputs": [],
   "source": [
    "#Q10. What are some common measures of central tendency and variability used in statistics? Explain how each measure can be used to describe a dataset.\n",
    "'''\n",
    "Some common measures of central tendency and variability used in statistics are:\n",
    "\n",
    "1. Mean: The mean is the sum of all the values in a dataset divided by the number of values. It is often used to describe the central tendency of a dataset. \n",
    "The mean provides a good indication of the typical value of the data and is sensitive to outliers.\n",
    "\n",
    "2. Median: The median is the middle value in a dataset when the values are arranged in order. \n",
    "It is another measure of central tendency that is often used when the data is skewed or contains outliers. The median is less sensitive to outliers than the mean.\n",
    "\n",
    "3. Mode: The mode is the value that appears most frequently in a dataset. \n",
    "It is another measure of central tendency that is often used for categorical data or when looking for the most common value in a dataset.\n",
    "\n",
    "4. Range: The range is the difference between the maximum and minimum values in a dataset. \n",
    "It provides a measure of variability in the data, but it is highly sensitive to outliers.\n",
    "\n",
    "5. Interquartile Range (IQR): The IQR is the range between the first quartile (25th percentile) and the third quartile (75th percentile) of a dataset. \n",
    "It provides a measure of variability that is less sensitive to outliers than the range.\n",
    "\n",
    "6. Standard Deviation: The standard deviation is a measure of the spread of the data around the mean. \n",
    "It provides a measure of variability that takes into account all of the values in the dataset. \n",
    "The standard deviation is sensitive to outliers and is often used to identify data points that are far from the mean.\n",
    "\n",
    "Each of these measures can be used to describe different aspects of a dataset. \n",
    "For example, the mean and median can be used to describe the central tendency of a dataset, while the range and IQR can be used to describe the variability in the data. \n",
    "The standard deviation can be used to describe how closely the data is clustered around the mean. \n",
    "By using a combination of these measures, statisticians can get a more complete understanding of the characteristics of a dataset.\n",
    "'''"
   ]
  }
 ],
 "metadata": {
  "kernelspec": {
   "display_name": "Python 3 (ipykernel)",
   "language": "python",
   "name": "python3"
  },
  "language_info": {
   "codemirror_mode": {
    "name": "ipython",
    "version": 3
   },
   "file_extension": ".py",
   "mimetype": "text/x-python",
   "name": "python",
   "nbconvert_exporter": "python",
   "pygments_lexer": "ipython3",
   "version": "3.10.8"
  }
 },
 "nbformat": 4,
 "nbformat_minor": 5
}
