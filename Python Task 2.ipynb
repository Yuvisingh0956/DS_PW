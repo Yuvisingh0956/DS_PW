{
 "cells": [
  {
   "cell_type": "code",
   "execution_count": 6,
   "id": "4d86c90d",
   "metadata": {},
   "outputs": [
    {
     "name": "stdout",
     "output_type": "stream",
     "text": [
      "Enter the password: #HAppy##12\n",
      "Valid Password\n"
     ]
    }
   ],
   "source": [
    "#Q1. You are writing code for a company. The requirement of the company is that you create a python function that will check\n",
    "#whether the password entered by the user is correct or not. The function should take the password as input and return the \n",
    "#string “Valid Password” if the entered password follows the below-given password guidelines else it should return “Invalid Password”.\n",
    "# Note: 1. The Password should contain at least two uppercase letters and at least two lowercase letters.\n",
    "# 2. The Password should contain at least a number and three special characters.\n",
    "# 3. The length of the password should be 10 characters long.\n",
    "\n",
    "def password(str):\n",
    "    if (len(str) != 10):\n",
    "        return \"Invalid Password\"\n",
    "    else:\n",
    "        upper, lower, number, special = 0, 0, 0, 0\n",
    "        for i in range(len(str)):\n",
    "            if str[i].isupper():\n",
    "                upper += 1\n",
    "            elif str[i].islower():\n",
    "                lower += 1\n",
    "            elif str[i].isdigit():\n",
    "                number += 1\n",
    "            else:\n",
    "                special += 1\n",
    "        if (upper < 2 or lower < 2 or number < 1 or special < 3):\n",
    "            return \"Invalid Password\"\n",
    "        else:\n",
    "            return \"Valid Password\"\n",
    "\n",
    "n = input(\"Enter the password: \")\n",
    "print(password(n))"
   ]
  },
  {
   "cell_type": "code",
   "execution_count": 26,
   "id": "3e8b2ea6",
   "metadata": {},
   "outputs": [
    {
     "name": "stdout",
     "output_type": "stream",
     "text": [
      "True\n",
      "False\n",
      "True\n",
      "False\n",
      "[('orange', 80), ('mango', 99), ('grapes', 1000)]\n",
      "[1, 4, 9, 16, 25, 36, 49, 64, 81, 100]\n",
      "[1.0, 1.2599210498948732, 1.4422495703074083, 1.5874010519681994, 1.7099759466766968, 1.8171205928321397, 1.912931182772389, 2.0, 2.080083823051904, 2.154434690031884]\n",
      "True\n",
      "False\n",
      "[1, 3, 5, 7, 9]\n",
      "Positive integers list:  [1, 2, 3, 4, 5, 6]\n",
      "Negative integers list:  [-1, -2, -3, -4, -5]\n"
     ]
    }
   ],
   "source": [
    "# Q2. Solve the below-given questions using at least one of the following:\n",
    "# 1. Lambda function\n",
    "# 2. Filter function\n",
    "# 3. Map function\n",
    "# 4. List Comprehension\n",
    "\n",
    "# Check if the string starts with a particular letter.\n",
    "# Check if the string is numeric.\n",
    "# Sort a list of tuples having fruit names and their quantity. [(\"mango\",99),(\"orange\",80), (\"grapes\", 1000)]\n",
    "# Find the squares of numbers from 1 to 10.\n",
    "# Find the cube root of numbers from 1 to 10.\n",
    "# Check if a given number is even.\n",
    "# Filter odd numbers from the given list: [1,2,3,4,5,6,7,8,9,10]\n",
    "# Sort a list of integers into positive and negative integers lists: [1,2,3,4,5,6,-1,-2,-3,-4,-5,0]\n",
    "\n",
    "\"SOLUTION BEGINS: \"\n",
    "\n",
    "# Check if the string starts with a particular letter.\n",
    "def start_letter(string, letter):\n",
    "    return (lambda x: x[0] == letter)(string)       #lambda function\n",
    "\n",
    "# Check if the string is numeric.\n",
    "def check_numeric(string):\n",
    "    return (lambda x: x.isnumeric())(string)        #lambda function\n",
    "\n",
    "#Sort a list of tuples having fruit names and their quantity. [(\"mango\",99),(\"orange\",80), (\"grapes\", 1000)]\n",
    "def sort_tuple(tup):\n",
    "    sorted_tuple = sorted(tup, key=lambda x: x[1])  #sorting on basis of quantity and lambda function used here\n",
    "    return sorted_tuple\n",
    "\n",
    "# Find the squares of numbers from 1 to 10.\n",
    "def squares(n):\n",
    "    return [i**2 for i in list(range(1,n+1))]       #lambda function and list comprehesion\n",
    "\n",
    "\n",
    "# Find the cube root of numbers from 1 to 10.\n",
    "def cube_root(n):\n",
    "    return [i**(1/3) for i in list(range(1,n+1))]   #lambda function and list comprehension\n",
    "\n",
    "# Check if a given number is even.\n",
    "def check_even(n):\n",
    "    return (lambda x: x % 2 == 0)(n)                #lambda function\n",
    "\n",
    "# Filter odd numbers from the given list: [1,2,3,4,5,6,7,8,9,10]\n",
    "def filter_odd(list1):\n",
    "    return list(filter(lambda x: x % 2 != 0, list1))  #filter function and lambda function and list comprehension\n",
    "\n",
    "# Sort a list of integers into positive and negative integers lists: [1,2,3,4,5,6,-1,-2,-3,-4,-5,0]\n",
    "def integer_list(list1):\n",
    "    positive_nums = list(filter(lambda x: x > 0, list1))       #filter function and lambda function and list comprehension\n",
    "    negative_nums = list(filter(lambda x: x < 0, list1))\n",
    "\n",
    "    return positive_nums, negative_nums\n",
    "\n",
    "print(start_letter(\"valid\",\"v\"))\n",
    "print(start_letter(\"valid\",\"a\"))\n",
    "print(check_numeric(\"1234\"))\n",
    "print(check_numeric(\"1234v\"))\n",
    "print(sort_tuple([(\"mango\",99),(\"orange\",80), (\"grapes\", 1000)]))\n",
    "print(squares(10))\n",
    "print(cube_root(10))\n",
    "print(check_even(56787448378))\n",
    "print(check_even(632467461))\n",
    "print(filter_odd([1,2,3,4,5,6,7,8,9,10]))\n",
    "a , b = integer_list([1,2,3,4,5,6,-1,-2,-3,-4,-5,0])\n",
    "print(\"Positive integers list: \", a)\n",
    "print(\"Negative integers list: \", b)"
   ]
  },
  {
   "cell_type": "code",
   "execution_count": null,
   "id": "09ed6871",
   "metadata": {},
   "outputs": [],
   "source": []
  }
 ],
 "metadata": {
  "kernelspec": {
   "display_name": "Python 3 (ipykernel)",
   "language": "python",
   "name": "python3"
  },
  "language_info": {
   "codemirror_mode": {
    "name": "ipython",
    "version": 3
   },
   "file_extension": ".py",
   "mimetype": "text/x-python",
   "name": "python",
   "nbconvert_exporter": "python",
   "pygments_lexer": "ipython3",
   "version": "3.9.12"
  }
 },
 "nbformat": 4,
 "nbformat_minor": 5
}
