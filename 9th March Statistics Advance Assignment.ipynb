{
 "cells": [
  {
   "cell_type": "code",
   "execution_count": null,
   "id": "5db340b5-7269-40f7-8dd2-ca79fdc345b0",
   "metadata": {},
   "outputs": [],
   "source": [
    "#Q1: What are the Probability Mass Function (PMF) and Probability Density Function (PDF)? Explain with an example.\n",
    "'''\n",
    "The probability mass function (PMF) and the probability density function (PDF) are two ways of representing the probability distribution of a random variable. \n",
    "The PMF is used for discrete random variables, while the PDF is used for continuous random variables.\n",
    "\n",
    "The PMF of a discrete random variable is a function that gives the probability of the random variable taking on each possible value. \n",
    "For example, the PMF of the number of heads you get when you flip a coin is:\n",
    "f(0) = 0.5\n",
    "f(1) = 0.5\n",
    "This means that the probability of getting 0 heads is 0.5 and the probability of getting 1 head is 0.5.\n",
    "\n",
    "The PDF of a continuous random variable is a function that gives the probability density of the random variable at each possible value. \n",
    "The probability density is a measure of how likely the random variable is to take on a particular value. \n",
    "For example, the PDF of the height of a person is:\n",
    "f(x) = 1/(sqrt(2*pi)*sigma) * exp(-(x-mu)^2/(2*sigma^2))\n",
    "This function gives the probability density of a person being of height x. The height x can be any real number. \n",
    "The function is highest at the mean height (mu) and decreases as the height moves away from the mean.\n",
    "'''"
   ]
  },
  {
   "cell_type": "code",
   "execution_count": null,
   "id": "991f48fc-7863-4d27-99cb-0fdb55bc759b",
   "metadata": {},
   "outputs": [],
   "source": [
    "#Q2: What is Cumulative Density Function (CDF)? Explain with an example. Why CDF is used?\n",
    "'''\n",
    "The cumulative distribution function (CDF) of a random variable X is a function that gives the probability that X will be less than or equal to a certain value. It is denoted by F(x).\n",
    "\n",
    "For example, the CDF of the number of heads you get when you flip a coin twice is:\n",
    "\n",
    "F(x) = 0 for x < 0\n",
    "F(x) = 0.25 for 0 <= x < 1\n",
    "F(x) = 0.5 for 1 <= x < 2\n",
    "F(x) = 1 for x >= 2\n",
    "\n",
    "This means that the probability of getting 0 heads is 0, the probability of getting 1 head is 0.25, the probability of getting 2 heads is 0.5, \n",
    "and the probability of getting more than 2 heads is 1.\n",
    "\n",
    "The CDF is used to calculate the probability that X will be in a certain range. For example, the probability of getting 1 or 2 heads when you flip a coin twice is:\n",
    "F(2) - F(1) = 0.5 - 0.25 = 0.25\n",
    "\n",
    "The CDF is also used to calculate the expected value of X. The expected value of X is the average value of X. It is calculated by:\n",
    "E(X) = integral_(-infty)^infty x * f(x) dx\n",
    "where f(x) is the PDF of X.\n",
    "'''"
   ]
  },
  {
   "cell_type": "code",
   "execution_count": null,
   "id": "9a9ad6c2-4796-48c2-b474-0eb462d87b13",
   "metadata": {},
   "outputs": [],
   "source": [
    "#Q3: What are some examples of situations where the normal distribution might be used as a model?\n",
    "#Explain how the parameters of the normal distribution relate to the shape of the distribution.\n",
    "\n",
    "'''\n",
    "Some examples of situations where the normal distribution might be used as a model include:\n",
    "\n",
    "The heights of adults\n",
    "The IQ scores of people\n",
    "The weights of newborn babies\n",
    "The amount of time it takes to complete a task\n",
    "The number of errors made in a process\n",
    "\n",
    "The parameters of the normal distribution are the mean and the standard deviation. \n",
    "The mean is the average value of the distribution, and the standard deviation is a measure of how spread out the distribution is. \n",
    "The shape of the normal distribution is bell-shaped, with the mean in the center and the tails tapering off towards zero.\n",
    "'''"
   ]
  },
  {
   "cell_type": "code",
   "execution_count": null,
   "id": "3536b2e7-4999-400b-9290-d16735c54e3d",
   "metadata": {},
   "outputs": [],
   "source": [
    "#Q4: Explain the importance of Normal Distribution. Give a few real-life examples of Normal Distribution.\n",
    "'''\n",
    "The normal distribution is one of the most important probability distributions in statistics. \n",
    "It is often called the \"bell curve\" because its shape resembles a bell. \n",
    "The normal distribution is important because it is used to model a wide variety of phenomena in nature and in society.\n",
    "\n",
    "Some real-life examples of the normal distribution include:\n",
    "\n",
    "The heights of adult humans\n",
    "The weights of adult humans\n",
    "The IQ scores of adult humans\n",
    "The amount of time it takes to complete a task\n",
    "The number of errors made in a process\n",
    "The amount of rainfall in a given year\n",
    "The number of people who get sick with a particular disease in a given year\n",
    "'''"
   ]
  },
  {
   "cell_type": "code",
   "execution_count": null,
   "id": "58408a52-1db5-44f7-97c8-4566ec59fe07",
   "metadata": {},
   "outputs": [],
   "source": [
    "#Q5: What is Bernaulli Distribution? Give an Example. What is the difference between Bernoulli Distribution and Binomial Distribution?\n",
    "'''\n",
    "The Bernoulli distribution is a discrete probability distribution that describes the outcome of a single trial of a Bernoulli experiment. \n",
    "A Bernoulli experiment is an experiment that has two possible outcomes, often called \"success\" and \"failure\". \n",
    "The probability of success is denoted by p and the probability of failure is denoted by 1-p.\n",
    "\n",
    "For example, flipping a coin is a Bernoulli experiment. The probability of getting heads is p and the probability of getting tails is 1-p.\n",
    "\n",
    "The Bernoulli distribution is a special case of the binomial distribution. \n",
    "The binomial distribution is a probability distribution that describes the outcome of n independent trials of a Bernoulli experiment. \n",
    "The binomial distribution is more general than the Bernoulli distribution because it allows for more than two possible outcomes.\n",
    "\n",
    "The main difference between the Bernoulli distribution and the binomial distribution is that the Bernoulli distribution only has one trial, \n",
    "while the binomial distribution has n trials.\n",
    "'''"
   ]
  },
  {
   "cell_type": "code",
   "execution_count": null,
   "id": "dccdf300-425e-41e0-89ac-928a26e37662",
   "metadata": {},
   "outputs": [],
   "source": [
    "#Q6. Consider a dataset with a mean of 50 and a standard deviation of 10. If we assume that the dataset\n",
    "# is normally distributed, what is the probability that a randomly selected observation will be greater\n",
    "# than 60? Use the appropriate formula and show your calculations.\n",
    "\n",
    "'''\n",
    "mean = 50, standard deviation = 10\n",
    "z = (x - μ) / σ\n",
    "where:\n",
    "x is the value of the observation\n",
    "μ is the mean of the dataset\n",
    "σ is the standard deviation of the dataset\n",
    "\n",
    "Therefore, z = (60 - 50) / 10 = 1\n",
    "\n",
    "The z-score of 1 tells us that the observation of 60 is one standard deviation above the mean.\n",
    "The area under the curve that is greater than 1 is (1 - 0.8413) = 0.1587.\n",
    "'''"
   ]
  },
  {
   "cell_type": "code",
   "execution_count": null,
   "id": "3c44e73a-05ef-4532-81ca-30ac74d62bec",
   "metadata": {},
   "outputs": [],
   "source": [
    "#Q7: Explain uniform Distribution with an example.\n",
    "'''\n",
    "The uniform distribution is a probability distribution that has a constant probability density function over a given interval. \n",
    "This means that all values within the interval are equally likely to be observed.\n",
    "\n",
    "The uniform distribution is often used to model situations where all outcomes are equally likely, such as:\n",
    "\n",
    "The roll of a die\n",
    "The draw of a card from a deck\n",
    "The outcome of a coin flip\n",
    "'''"
   ]
  },
  {
   "cell_type": "code",
   "execution_count": null,
   "id": "6d486e61-28c2-43cf-82f1-a46c807dfd52",
   "metadata": {},
   "outputs": [],
   "source": [
    "#Q8: What is the z score? State the importance of the z score.\n",
    "'''\n",
    "\n",
    "In statistics, a z-score or standard score is a number that indicates how many standard deviations a specific point is away from the mean of a \n",
    "normally distributed set of data. A z-score is calculated by subtracting the mean of the set from a specific point and then dividing by the standard deviation of the set.\n",
    "\n",
    "Z-scores are important because they allow us to compare values that are on different scales. For example, if we have two sets of data, one with a mean of 100 and a standard deviation of 10, \n",
    "and the other with a mean of 50 and a standard deviation of 5, we can't directly compare the values in the two sets. However, we can convert the values in each set to z-scores, \n",
    "which will allow us to compare them directly.\n",
    "'''"
   ]
  },
  {
   "cell_type": "code",
   "execution_count": null,
   "id": "1a5d6306-d28d-49db-a53b-1345c3e50f56",
   "metadata": {},
   "outputs": [],
   "source": [
    "#Q9: What is Central Limit Theorem? State the significance of the Central Limit Theorem.\n",
    "'''\n",
    "It states that if we take independent and identically distributed samples from any population with a finite mean and variance, \n",
    "then the sample means will follow a normal distribution, regardless of the underlying distribution of the population from which the samples are drawn.\n",
    "\n",
    "The significance of the Central Limit Theorem lies in its broad applicability to a wide range of statistical problems. \n",
    "It allows us to use the normal distribution to make inferences about the population, even when the underlying distribution is unknown or non-normal. \n",
    "This makes it a powerful tool for hypothesis testing, confidence interval estimation, and many other statistical applications.\n",
    "'''"
   ]
  },
  {
   "cell_type": "code",
   "execution_count": null,
   "id": "bc38978e-09e2-4e8f-b098-d3e2d909db1d",
   "metadata": {},
   "outputs": [],
   "source": [
    "#Q10: State the assumptions of the Central Limit Theorem.\n",
    "'''\n",
    "There are four assumptions that must be met in order for the CLT to be valid:\n",
    "\n",
    "1. The data must be sampled randomly from the population.\n",
    "2. The sample size must be sufficiently large.\n",
    "3. The data must be independent.\n",
    "4. The data must have a finite variance.\n",
    "'''"
   ]
  }
 ],
 "metadata": {
  "kernelspec": {
   "display_name": "Python 3 (ipykernel)",
   "language": "python",
   "name": "python3"
  },
  "language_info": {
   "codemirror_mode": {
    "name": "ipython",
    "version": 3
   },
   "file_extension": ".py",
   "mimetype": "text/x-python",
   "name": "python",
   "nbconvert_exporter": "python",
   "pygments_lexer": "ipython3",
   "version": "3.10.8"
  }
 },
 "nbformat": 4,
 "nbformat_minor": 5
}
