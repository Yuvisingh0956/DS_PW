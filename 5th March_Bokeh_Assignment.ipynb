{
  "nbformat": 4,
  "nbformat_minor": 0,
  "metadata": {
    "colab": {
      "provenance": []
    },
    "kernelspec": {
      "name": "python3",
      "display_name": "Python 3"
    },
    "language_info": {
      "name": "python"
    }
  },
  "cells": [
    {
      "cell_type": "code",
      "execution_count": 5,
      "metadata": {
        "id": "hC4Yoaqm7YMk"
      },
      "outputs": [],
      "source": [
        "#Q1. How can you create a Bokeh plot using Python code?\n",
        "'''\n",
        "To create a Bokeh plot using Python code, you can use the Bokeh library. \n",
        "The Bokeh library is a Python library that provides high-performance interactive charts and plots.\n",
        "'''\n",
        "from bokeh.plotting import figure"
      ]
    },
    {
      "cell_type": "code",
      "source": [
        "#Q2. What are glyphs in Bokeh, and how can you add them to a Bokeh plot? Explain with an example.\n",
        "'''\n",
        "Glyphs are the building blocks of Bokeh visualizations. A glyph is a vectorized graphical shape or marker that is used to represent your data.\n",
        "\n",
        "To add glyphs to a Bokeh plot, you can use the glyph method of the figure object. \n",
        "The glyph method takes a number of arguments, including the glyph type, the data, and the mapping between the data and the glyph properties.\n",
        "'''\n",
        "\n",
        "from bokeh.plotting import figure, show\n",
        "p = figure(title='My Bokeh Plot', x_axis_label='X-axis', y_axis_label='Y-axis')\n",
        "p.circle([1, 2, 3, 4, 5], [6, 7, 2, 4, 5], color='red', size=10, alpha=0.5)\n",
        "p.line([1, 2, 3, 4, 5], [6, 7, 2, 4, 5], color='blue', line_width=2, line_dash=[10, 5])\n",
        "show(p)\n"
      ],
      "metadata": {
        "id": "pZCJbLIa7rha"
      },
      "execution_count": 7,
      "outputs": []
    },
    {
      "cell_type": "code",
      "source": [
        "#Q3. How can you customize the appearance of a Bokeh plot, including the axes, title, and legend?\n",
        "'''\n",
        "Bokeh provides various options to customize the appearance of a plot. \n",
        "Here are some of the ways to customize the appearance of a Bokeh plot:\n",
        "\n",
        "1.Axis customization: You can customize the appearance of the axes by changing their labels, font size, \n",
        "font color, line color, and more. For example, you can set the x-axis label of a plot by calling the \n",
        "xaxis.axis_label attribute and passing a string argument that represents the label text.\n",
        "\n",
        "2.Title customization: You can customize the title of a plot by changing its font, size, color, and more. \n",
        "For example, you can set the title of a plot by calling the title attribute and passing a string argument that represents the title text.\n",
        "\n",
        "3.Legend customization: You can customize the legend of a plot by changing its font, size, color, location, and more. \n",
        "For example, you can set the location of a legend by calling the legend.location attribute and passing a string argument that represents the location.\n",
        "'''"
      ],
      "metadata": {
        "id": "2vq2HSnL7_Hx"
      },
      "execution_count": null,
      "outputs": []
    },
    {
      "cell_type": "code",
      "source": [
        "#Q4. What is a Bokeh server, and how can you use it to create interactive plots that can be updated in real time?\n",
        "'''\n",
        "A Bokeh server is a web application that can be used to create interactive plots that can be updated in real time. \n",
        "The Bokeh server provides a number of features that make it ideal for creating interactive plots, including:\n",
        "\n",
        "1.High performance: The Bokeh server is highly performant, and can handle large datasets and complex plots.\n",
        "2.Real-time updates: The Bokeh server can update plots in real time, making it ideal for applications that \n",
        "require users to be able to interact with the data in real time.\n",
        "3.Flexibility: The Bokeh server is flexible, and can be used to create a variety of different types of interactive plots.\n",
        "\n",
        "To use the Bokeh server to create interactive plots, you can use the bokeh serve command.\n",
        "The bokeh serve command takes a number of arguments, including the name of the Bokeh document to serve, \n",
        "the port number to serve the document on, and the host name to serve the document on. \n",
        "For example, the following command serves the Bokeh document my_plot.py on port 5000:\n",
        "'''\n",
        "bokeh serve my_plot.py --port 5000"
      ],
      "metadata": {
        "id": "5Mio55k_87KH"
      },
      "execution_count": null,
      "outputs": []
    },
    {
      "cell_type": "code",
      "source": [
        "#Q5. How can you embed a Bokeh plot into a web page or dashboard using Flask or Django?\n",
        "'''\n",
        "To embed a Bokeh plot into a web page or dashboard using Flask or Django, you can use the bokeh.embed.components function. \n",
        "The bokeh.embed.components function takes a Bokeh plot object and returns a HTML snippet that can be used to embed the plot in a web page or dashboard.\n",
        "'''"
      ],
      "metadata": {
        "id": "RatfFxA09aXa"
      },
      "execution_count": null,
      "outputs": []
    }
  ]
}