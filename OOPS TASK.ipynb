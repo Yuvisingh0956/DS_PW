{
 "cells": [
  {
   "cell_type": "code",
   "execution_count": 1,
   "id": "24bb3116",
   "metadata": {},
   "outputs": [],
   "source": [
    "#Q1. Create a vehicle class with an init method having instance variables as name_of_vehicle, max_speed and average_of_vehicle.\n",
    "\n",
    "class vehicle:\n",
    "    def __init__(self, name_of_vehicle, max_speed, average_of_vehicle):\n",
    "        self.name_of_vehicle = name_of_vehicle\n",
    "        self.max_speed = max_speed\n",
    "        self.average_of_vehicle = average_of_vehicle"
   ]
  },
  {
   "cell_type": "code",
   "execution_count": 7,
   "id": "70646104",
   "metadata": {},
   "outputs": [
    {
     "name": "stdout",
     "output_type": "stream",
     "text": [
      "Tata_Tiago , 7\n"
     ]
    }
   ],
   "source": [
    "#Q2. Create a child class car from the vehicle class created in Que 1, which will inherit the vehicle class. Create a method\n",
    "#named seating_capacity which takes capacity as an argument and returns the name of the vehicle and its seating capacity.\n",
    "\n",
    "class child_class(vehicle):\n",
    "    def seating_capacity(self, capacity):\n",
    "        self.capacity = capacity\n",
    "        print (self.name_of_vehicle,\",\", self.capacity)\n",
    "\n",
    "child_class1 = child_class(\"Tata_Tiago\",200,100)\n",
    "child_class1.seating_capacity(7)"
   ]
  },
  {
   "cell_type": "code",
   "execution_count": 11,
   "id": "318b5bd8",
   "metadata": {},
   "outputs": [
    {
     "data": {
      "text/plain": [
       "'this is class 2'"
      ]
     },
     "execution_count": 11,
     "metadata": {},
     "output_type": "execute_result"
    }
   ],
   "source": [
    "#Q3. What is multiple inheritance? Write a python code to demonstrate multiple inheritance.\n",
    "'''\n",
    "When a class is derived from more than one base class it is called multiple Inheritance. \n",
    "The derived class inherits all the features of the base case.\n",
    "'''\n",
    "#EXAMPLE:\n",
    "class class1:\n",
    "    def test_case1(self):\n",
    "        return \"this is calss 1\"\n",
    "class class2:\n",
    "    def test_case2(self):\n",
    "        return \"this is class 2\"\n",
    "class class3(class1, class2):\n",
    "    pass\n",
    "\n",
    "obj = class3()\n",
    "obj.test_case2()\n",
    "\n",
    "\"\"\"Here we can clearly see that class3 has inherited mutliplt classes which are class1 and class2 and due to which \n",
    "class3 can access both the functions defined in those two classes.\"\"\""
   ]
  },
  {
   "cell_type": "code",
   "execution_count": 12,
   "id": "49a6ff73",
   "metadata": {},
   "outputs": [
    {
     "name": "stdout",
     "output_type": "stream",
     "text": [
      "1 , Yuvraj\n",
      "3 , Yuvraj\n"
     ]
    }
   ],
   "source": [
    "#Q4. What are getter and setter in python? Create a class and create a getter and a setter method in this class.\n",
    "'''\n",
    "In Python, getters and setters are methods that allow us to access and modify the values of instance variables of a class in\n",
    "a controlled manner. The getter method retrieves the value of an attribute, while the setter method sets the value of an \n",
    "attribute after validating it.\n",
    "'''\n",
    "\n",
    "#EXAMPLE:\n",
    "\n",
    "class Student:\n",
    "    def __init__(self, id, name):\n",
    "        self.__id = id              #no one can access id as it has been made private\n",
    "        self.name = name\n",
    "    \n",
    "    #Getter method\n",
    "    @property\n",
    "    def student_id_access(self):\n",
    "        return self.__id           #due to the getter method now private variable id can be accessed by user\n",
    "    \n",
    "    #Setter method\n",
    "    @student_id_access.setter\n",
    "    def student_id_set(self, id_number):\n",
    "        if (id_number > 0):\n",
    "            self.__id = id_number      #due to setter method now private variable id can be modified\n",
    "        else:\n",
    "            return \"Invalid id\"\n",
    "        \n",
    "stud = Student(1,\"Yuvraj\")\n",
    "print(stud.student_id_access,\",\", stud.name)\n",
    "stud.student_id_set = 3\n",
    "print(stud.student_id_access,\",\", stud.name)"
   ]
  },
  {
   "cell_type": "code",
   "execution_count": 14,
   "id": "25f0bf38",
   "metadata": {},
   "outputs": [
    {
     "name": "stdout",
     "output_type": "stream",
     "text": [
      "The animal makes a sound\n",
      "Meow\n",
      "Woof\n"
     ]
    }
   ],
   "source": [
    "#Q5.What is method overriding in python? Write a python code to demonstrate method overriding.\n",
    "'''\n",
    "Method overriding in Python is a feature that allows a subclass to provide a different implementation of a method that is \n",
    "already defined in its superclass. When a method is overridden in a subclass, the implementation in the subclass takes \n",
    "precedence over the implementation in the superclass.\n",
    "'''\n",
    "\n",
    "#EXAMPLE:\n",
    "\n",
    "class Animal:\n",
    "    def speak(self):\n",
    "        print(\"The animal makes a sound\")\n",
    "\n",
    "class Cat(Animal):\n",
    "    def speak(self):\n",
    "        print(\"Meow\")\n",
    "\n",
    "class Dog(Animal):\n",
    "    def speak(self):\n",
    "        print(\"Woof\")\n",
    "\n",
    "animal = Animal()\n",
    "cat = Cat()\n",
    "dog = Dog()\n",
    "\n",
    "animal.speak()\n",
    "cat.speak()  \n",
    "dog.speak()"
   ]
  }
 ],
 "metadata": {
  "kernelspec": {
   "display_name": "Python 3 (ipykernel)",
   "language": "python",
   "name": "python3"
  },
  "language_info": {
   "codemirror_mode": {
    "name": "ipython",
    "version": 3
   },
   "file_extension": ".py",
   "mimetype": "text/x-python",
   "name": "python",
   "nbconvert_exporter": "python",
   "pygments_lexer": "ipython3",
   "version": "3.9.12"
  }
 },
 "nbformat": 4,
 "nbformat_minor": 5
}
