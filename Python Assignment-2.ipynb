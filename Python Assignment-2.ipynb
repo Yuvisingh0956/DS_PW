{
 "cells": [
  {
   "cell_type": "code",
   "execution_count": 10,
   "id": "14275b6e",
   "metadata": {},
   "outputs": [
    {
     "name": "stdout",
     "output_type": "stream",
     "text": [
      "169\n"
     ]
    }
   ],
   "source": [
    "#Q1. Which keyword is used to create a function? Create a function to return a list of odd numbers in the range of 1 to 25.\n",
    "\n",
    "# ANS: def keyword is used to creat a function.\n",
    "\n",
    "def odd_sum():\n",
    "    sum = 0\n",
    "    l = [i for i in range(1,26) if i%2 != 0]\n",
    "    for j in l:\n",
    "        sum += j\n",
    "    return sum\n",
    "    \n",
    "print(odd_sum())"
   ]
  },
  {
   "cell_type": "code",
   "execution_count": 17,
   "id": "59a1960e",
   "metadata": {},
   "outputs": [
    {
     "name": "stdout",
     "output_type": "stream",
     "text": [
      "(1, 2, 3, 4, 5, [783, 8373, 7363], 'yuvi')\n",
      "{'key_1': 2, 'key_2': [987, 876, 908], 'b': 'birthday'}\n"
     ]
    }
   ],
   "source": [
    "#Q2. Why *args and **kwargs is used in some functions? Create a function each for *args and **kwargsto demonstrate their use.\n",
    "\n",
    "# ANS: *args and **kwargs are used when we are unsure of the total number of arguments to pe passed into the function.\n",
    "#      *args returns tuple values while **kwargs returns dictionary values.\n",
    "\n",
    "def demo_1(*args):\n",
    "    return args\n",
    "\n",
    "def demo_2(**kwargs):\n",
    "    return kwargs\n",
    "\n",
    "print(demo_1(1,2,3,4,5,[783,8373,7363],\"yuvi\"))\n",
    "#here we can see that we can easily input any number of values in the argument and any type of values we can enter in it.\n",
    "\n",
    "print(demo_2(key_1= 2, key_2= [987,876,908], b= 'birthday'))\n",
    "#here we can enter any number of arguments in the function in form of the dictionary and any type of value can be entered in it."
   ]
  },
  {
   "cell_type": "code",
   "execution_count": 20,
   "id": "8184b379",
   "metadata": {},
   "outputs": [
    {
     "name": "stdout",
     "output_type": "stream",
     "text": [
      "2\n",
      "4\n",
      "6\n",
      "8\n",
      "10\n"
     ]
    }
   ],
   "source": [
    "#Q3. What is an iterator in python? Name the method used to initialise the iterator object and the method used for \n",
    "#iteration. Use these methods to print the first five elements of the given list [2, 4, 6, 8, 10, 12, 14, 16, 18, 20].\n",
    "\n",
    "# ANS: an iterator is an object that allows you to iterate over collections of data, such as lists, tuples, dictionaries, and sets.\n",
    "# iter() method is used to initialize the iterator object and next() method is used for iteration.\n",
    "\n",
    "l = [2, 4, 6, 8, 10, 12, 14, 16, 18, 20]\n",
    "list_iter = iter(l)\n",
    "for i in range (5):\n",
    "    print(next(list_iter))"
   ]
  },
  {
   "cell_type": "code",
   "execution_count": 24,
   "id": "e42e8cc2",
   "metadata": {},
   "outputs": [
    {
     "name": "stdout",
     "output_type": "stream",
     "text": [
      "[0, 2, 4, 6, 8, 10, 12, 14, 16, 18]\n"
     ]
    }
   ],
   "source": [
    "#Q4. What is a generator function in python? Why yield keyword is used? Give an example of a generator function.\n",
    "\n",
    "# ANS: A Python generator function allows you to declare a function that behaves like an iterator, providing a faster and easier way to create iterators.\n",
    "\n",
    "# The yield keyword will convert an expression that is specified along with it to a generator object and return it to the caller.\n",
    "\n",
    "# example:\n",
    "def filter_even(n):\n",
    "    for i in range (n): \n",
    "        if (i%2 ==0):\n",
    "            yield i\n",
    "l = filter_even(20)\n",
    "print(list(l))"
   ]
  },
  {
   "cell_type": "code",
   "execution_count": 25,
   "id": "d4fdf028",
   "metadata": {},
   "outputs": [
    {
     "name": "stdout",
     "output_type": "stream",
     "text": [
      "2\n",
      "3\n",
      "5\n",
      "7\n",
      "11\n",
      "13\n",
      "17\n",
      "19\n",
      "23\n",
      "29\n",
      "31\n",
      "37\n",
      "41\n",
      "43\n",
      "47\n",
      "53\n",
      "59\n",
      "61\n",
      "67\n",
      "71\n"
     ]
    }
   ],
   "source": [
    "#Q5. Create a generator function for prime numbers less than 1000. Use the next() method to print the first 20 prime numbers.\n",
    "\n",
    "def prime(n):\n",
    "    for i in range (1, n+1):\n",
    "        count = 0\n",
    "        for j in range(1, i+1):\n",
    "            if (i%j == 0):\n",
    "                count += 1\n",
    "        if count == 2:\n",
    "            yield i\n",
    "l = list(prime(1000))\n",
    "prime_itr = iter(l)\n",
    "for k in range(20):\n",
    "    print(next(prime_itr))"
   ]
  },
  {
   "cell_type": "code",
   "execution_count": 32,
   "id": "fd6062cc",
   "metadata": {},
   "outputs": [
    {
     "name": "stdout",
     "output_type": "stream",
     "text": [
      "0\n",
      "1\n",
      "1\n",
      "2\n",
      "3\n",
      "5\n",
      "8\n",
      "13\n",
      "21\n",
      "34\n"
     ]
    }
   ],
   "source": [
    "#Q6. Write a python program to print the first 10 Fibonacci numbers using a while loop.\n",
    "\n",
    "a,b,count = 0,1,1\n",
    "while (count <= 10):\n",
    "    print(a)\n",
    "    n = a+b\n",
    "    a = b\n",
    "    b = n\n",
    "    count += 1"
   ]
  },
  {
   "cell_type": "code",
   "execution_count": 33,
   "id": "c198c275",
   "metadata": {},
   "outputs": [
    {
     "data": {
      "text/plain": [
       "['p', 'w', 's', 'k', 'i', 'l', 'l', 's']"
      ]
     },
     "execution_count": 33,
     "metadata": {},
     "output_type": "execute_result"
    }
   ],
   "source": [
    "#Q7. Write a List Comprehension to iterate through the given string: ‘pwskills’.\n",
    "#Expected output: ['p', 'w', 's', 'k', 'i', 'l', 'l', 's']\n",
    "\n",
    "s = 'pwskills'\n",
    "[i for i in s]"
   ]
  },
  {
   "cell_type": "code",
   "execution_count": 38,
   "id": "0bed68c1",
   "metadata": {},
   "outputs": [
    {
     "name": "stdout",
     "output_type": "stream",
     "text": [
      "palindrome\n",
      "not palindrome\n"
     ]
    }
   ],
   "source": [
    "#Q8. Write a python program to check whether a given number is Palindrome or not using a while loop.\n",
    "\n",
    "def palindrome(n):\n",
    "    a, b = 0, n\n",
    "    while (b>0):\n",
    "        a = 10 * a + b % 10\n",
    "        b = b // 10\n",
    "    if (a == n):\n",
    "        return ('palindrome')\n",
    "    else:\n",
    "        return ('not palindrome')\n",
    "\n",
    "print(palindrome(123454321))\n",
    "print(palindrome(12345432))"
   ]
  },
  {
   "cell_type": "code",
   "execution_count": 41,
   "id": "0fc8fc31",
   "metadata": {},
   "outputs": [
    {
     "name": "stdout",
     "output_type": "stream",
     "text": [
      "[1, 3, 5, 7, 9, 11, 13, 15, 17, 19, 21, 23, 25, 27, 29, 31, 33, 35, 37, 39, 41, 43, 45, 47, 49, 51, 53, 55, 57, 59, 61, 63, 65, 67, 69, 71, 73, 75, 77, 79, 81, 83, 85, 87, 89, 91, 93, 95, 97, 99]\n"
     ]
    }
   ],
   "source": [
    "#Q9. Write a code to print odd numbers from 1 to 100 using list comprehension.\n",
    "\n",
    "l = [i for i in range(1,101)]\n",
    "s = [j for j in l if j%2 != 0]\n",
    "print(s)"
   ]
  },
  {
   "cell_type": "code",
   "execution_count": null,
   "id": "9ecdee0e",
   "metadata": {},
   "outputs": [],
   "source": []
  }
 ],
 "metadata": {
  "kernelspec": {
   "display_name": "Python 3 (ipykernel)",
   "language": "python",
   "name": "python3"
  },
  "language_info": {
   "codemirror_mode": {
    "name": "ipython",
    "version": 3
   },
   "file_extension": ".py",
   "mimetype": "text/x-python",
   "name": "python",
   "nbconvert_exporter": "python",
   "pygments_lexer": "ipython3",
   "version": "3.9.12"
  }
 },
 "nbformat": 4,
 "nbformat_minor": 5
}
