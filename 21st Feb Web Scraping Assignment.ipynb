{
 "cells": [
  {
   "cell_type": "code",
   "execution_count": null,
   "id": "0fb9e26a-bb82-4b0b-9644-2be62a2b1962",
   "metadata": {},
   "outputs": [],
   "source": [
    "#Q1. What is Web Scraping? Why is it Used? Give three areas where Web Scraping is used to get data.\n",
    "'''\n",
    "Web scraping is the process of extracting data from websites using automated software programs or scripts. It involves retrieving specific information from web pages, \n",
    "such as text, images, and links, and saving it in a structured format for further analysis or use.\n",
    "\n",
    "Web scraping is used for a variety of reasons, such as:\n",
    "\n",
    "1. Data mining\n",
    "2. Market research\n",
    "3. Lead generation\n",
    "\n",
    "Three specific areas where web scraping is used to get data are:\n",
    "\n",
    "1. E-commerce\n",
    "2. Social media\n",
    "3. Real estate\n",
    "'''"
   ]
  },
  {
   "cell_type": "code",
   "execution_count": null,
   "id": "6d10145c-0bad-401d-9600-5650f9964348",
   "metadata": {},
   "outputs": [],
   "source": [
    "#Q2. What are the different methods used for Web Scraping?\n",
    "'''\n",
    "There are several methods used for web scraping, including:\n",
    "\n",
    "1. Parsing HTML\n",
    "2. Using APIs\n",
    "3. Using automated tools\n",
    "4. Crawling\n",
    "5. Human-powered scraping\n",
    "'''"
   ]
  },
  {
   "cell_type": "code",
   "execution_count": null,
   "id": "0ae79578-ff2d-441a-9a95-f2709ecf4420",
   "metadata": {},
   "outputs": [],
   "source": [
    "#Q3. What is Beautiful Soup? Why is it used?\n",
    "'''\n",
    "Beautiful Soup is a Python library that is commonly used for web scraping. It is designed to make parsing HTML and XML documents \n",
    "easier and more efficient, and provides a range of useful functions for navigating and searching through web page source code.\n",
    "\n",
    "Beautiful Soup is used for several reasons, including:\n",
    "\n",
    "1. Simplifying web scraping\n",
    "2. Handling poorly formatted HTML\n",
    "3. Supporting different parsing libraries\n",
    "4. Searching and navigating HTML code\n",
    "'''"
   ]
  },
  {
   "cell_type": "code",
   "execution_count": null,
   "id": "598c2074-c792-4ba5-9013-808856bcfb38",
   "metadata": {},
   "outputs": [],
   "source": [
    "#Q4. Why is flask used in this Web Scraping project?\n",
    "'''\n",
    "Flask may be used in this web scraping project because: \n",
    "\n",
    "1. Easy to set up\n",
    "2. Flexible\n",
    "3. Integration with other Python libraries\n",
    "4. Web-based interface\n",
    "'''"
   ]
  },
  {
   "cell_type": "code",
   "execution_count": null,
   "id": "ea62d707-3985-4218-982a-0d1949446cd1",
   "metadata": {},
   "outputs": [],
   "source": [
    "#Q5. Write the names of AWS services used in this project. Also, explain the use of each service.\n",
    "'''\n",
    "Amazon API Gateway: API Gateway is a fully managed service that makes it easy for developers to create, publish, and manage APIs. \n",
    "In a web scraping project, API Gateway can be used to create a REST API to access the scraped data.\n",
    "'''"
   ]
  }
 ],
 "metadata": {
  "kernelspec": {
   "display_name": "Python 3 (ipykernel)",
   "language": "python",
   "name": "python3"
  },
  "language_info": {
   "codemirror_mode": {
    "name": "ipython",
    "version": 3
   },
   "file_extension": ".py",
   "mimetype": "text/x-python",
   "name": "python",
   "nbconvert_exporter": "python",
   "pygments_lexer": "ipython3",
   "version": "3.10.8"
  }
 },
 "nbformat": 4,
 "nbformat_minor": 5
}
