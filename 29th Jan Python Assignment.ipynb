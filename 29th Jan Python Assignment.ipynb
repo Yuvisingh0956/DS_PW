{
 "cells": [
  {
   "cell_type": "code",
   "execution_count": null,
   "id": "ccb89d17",
   "metadata": {},
   "outputs": [],
   "source": [
    "'Q1. Python was created by Guido van Rossum'"
   ]
  },
  {
   "cell_type": "code",
   "execution_count": null,
   "id": "0d540dd3",
   "metadata": {},
   "outputs": [],
   "source": [
    "'''\n",
    "Q2. Python is a high-level, general-purpose programming language that supports multiple programming paradigms, including:\n",
    "1. Imperative programming\n",
    "2. Object-oriented programming (OOP)\n",
    "3. Functional programming\n",
    "4. Procedural programming\n",
    "5. Event-driven programming\n",
    "'''"
   ]
  },
  {
   "cell_type": "code",
   "execution_count": null,
   "id": "a4c3ebb3",
   "metadata": {},
   "outputs": [],
   "source": [
    "'''\n",
    "Q3. Yes python is case-sensitive.\n",
    "'''"
   ]
  },
  {
   "cell_type": "code",
   "execution_count": null,
   "id": "c482f60d",
   "metadata": {},
   "outputs": [],
   "source": [
    "'''\n",
    "Q4.The correct extension for a Python file is .py\n",
    "'''"
   ]
  },
  {
   "cell_type": "code",
   "execution_count": null,
   "id": "188b51dd",
   "metadata": {},
   "outputs": [],
   "source": [
    "'''\n",
    "Q5. Python code is interpreted.\n",
    "'''"
   ]
  },
  {
   "cell_type": "code",
   "execution_count": null,
   "id": "27f987da",
   "metadata": {},
   "outputs": [],
   "source": [
    "'''\n",
    "Q6. In Python, we can define blocks of code using the following constructs:\n",
    "    1. Functions\n",
    "    2. Classes\n",
    "    3. Loops\n",
    "    4. Conditional Statements\n",
    "    5. With Statements\n",
    "    6. Try/expect statements\n",
    "'''"
   ]
  },
  {
   "cell_type": "code",
   "execution_count": null,
   "id": "4ab3445f",
   "metadata": {},
   "outputs": [],
   "source": [
    "'''\n",
    "Q7. # is used for single line comment in python.\n",
    "'''"
   ]
  },
  {
   "cell_type": "code",
   "execution_count": null,
   "id": "7bafc674",
   "metadata": {},
   "outputs": [],
   "source": [
    "'''\n",
    "Q8. \n",
    "1. sys.version_info\n",
    "2. sys.version\n",
    "'''"
   ]
  },
  {
   "cell_type": "code",
   "execution_count": null,
   "id": "00c8b507",
   "metadata": {},
   "outputs": [],
   "source": [
    "'''\n",
    "Q9. lambda\n",
    "'''"
   ]
  },
  {
   "cell_type": "code",
   "execution_count": null,
   "id": "e94037f7",
   "metadata": {},
   "outputs": [],
   "source": [
    "'''\n",
    "Q10. PIP stands for \"Pip Installs Packages\". It is a package management system used to install and manage software packages \n",
    "written in Python.\n",
    "'''"
   ]
  },
  {
   "cell_type": "code",
   "execution_count": null,
   "id": "b8abe38d",
   "metadata": {},
   "outputs": [],
   "source": [
    "'''\n",
    "Q11. print(), input(), type(), range(), sum(), etc.\n",
    "'''"
   ]
  },
  {
   "cell_type": "code",
   "execution_count": null,
   "id": "e4e8f053",
   "metadata": {},
   "outputs": [],
   "source": [
    "'''\n",
    "Q12. In Python, the maximum possible length of an identifier (variable name, function name, etc.) is not explicitly defined.\n",
    "However, it is generally recommended to keep the length of identifiers relatively short and meaningful. According to the \n",
    "official Python documentation, PEP 8 style guide recommends limiting all lines to a maximum of 79 characters, and limiting \n",
    "identifiers to a maximum of 79 characters as well\n",
    "'''"
   ]
  },
  {
   "cell_type": "code",
   "execution_count": null,
   "id": "c415b963",
   "metadata": {},
   "outputs": [],
   "source": [
    "'''\n",
    "Q13. \n",
    "1. Simple and easy to learn\n",
    "2. Open-source and free\n",
    "3. Large community and extensive library support\n",
    "4. Cross-platform compatibility\n",
    "5. High productivity and faster development\n",
    "'''"
   ]
  },
  {
   "cell_type": "code",
   "execution_count": null,
   "id": "c6f3705a",
   "metadata": {},
   "outputs": [],
   "source": [
    "'''\n",
    "Q14. In Python, memory management is handled by the Python Memory Manager, which is responsible for allocating and \n",
    "deallocating memory for objects in the program.\n",
    "'''"
   ]
  },
  {
   "cell_type": "code",
   "execution_count": null,
   "id": "5ae4a5fc",
   "metadata": {},
   "outputs": [],
   "source": [
    "'''\n",
    "Q15. \n",
    "1.Download the latest version of Python from the official Python website: https://www.python.org/downloads/windows/\n",
    "2.Double-click the downloaded installer file to start the installation process.\n",
    "3.In the installer window, select \"Add Python to PATH\" option and click on the \"Install Now\" button. This will add the Python installation directory to the PATH environment variable.\n",
    "4.Follow the installation wizard and select the appropriate options.\n",
    "5.Once the installation is complete, open the Command Prompt and type \"python\" to verify that Python is installed correctly and the PATH variable is set correctly.\n",
    "6.You can also check the version of Python installed by typing \"python --version\" in the Command Prompt.\n",
    "'''"
   ]
  },
  {
   "cell_type": "code",
   "execution_count": null,
   "id": "aa40af2a",
   "metadata": {},
   "outputs": [],
   "source": [
    "'''\n",
    "Q16. Yes, indentation is required in python otherwise we can encouter errors in many parts of the code.\n",
    "'''"
   ]
  }
 ],
 "metadata": {
  "kernelspec": {
   "display_name": "Python 3 (ipykernel)",
   "language": "python",
   "name": "python3"
  },
  "language_info": {
   "codemirror_mode": {
    "name": "ipython",
    "version": 3
   },
   "file_extension": ".py",
   "mimetype": "text/x-python",
   "name": "python",
   "nbconvert_exporter": "python",
   "pygments_lexer": "ipython3",
   "version": "3.9.12"
  }
 },
 "nbformat": 4,
 "nbformat_minor": 5
}
